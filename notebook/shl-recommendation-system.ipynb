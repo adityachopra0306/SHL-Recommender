{
 "cells": [
  {
   "cell_type": "markdown",
   "metadata": {},
   "source": [
    "# SHL Assessment Recommender System\n",
    "\n",
    "The following notebook covers the design, implementation, and evaluation of a recommendation system that suggests relevant SHL assessments based on a natural language job description or query. The goal is to retrieve and rank the most suitable assessments from SHL’s product catalog by leveraging modern information retrieval techniques.\n",
    "\n",
    "The system supports both **lexical (BM25) and semantic (SBERT) search using FAISS**, along with **metadata-based filtering** (e.g., test type and duration) and **Gemini API Integration** for Query processing. It returns a ranked list of recommended assessments, each with essential attributes like remote testing support, duration, adaptiveness, and test type.\n",
    "Key features such as semantic search, filtering, and hybrid ranking were added iteratively, with performance evaluated at each step using Recall@10 and MAP@10 metrics. This allowed for data-driven development.\n",
    "\n",
    "This notebook includes:\n",
    "\n",
    "- Data preprocessing and enrichment\n",
    "- Query understanding and parsing\n",
    "- BM25 and semantic search pipelines\n",
    "- Filtering logic based on duration and test types\n",
    "- Ranking fusion using Reciprocal Rank Fusion (RRF)\n",
    "- Hybrid approach by reranking BM25 outputs using SBERT\n",
    "- Evaluation using Recall@10 and MAP@10 on the official test set\n",
    "- Discussion of results and potential areas for improvement\n",
    "\n",
    "The system aims to provide relevant and context-aware assessment recommendations with minimal latency and no supervised training, making it a scalable baseline for further enhancement.\n",
    "\n",
    "## Metrics\n",
    "The model achieves **30% Recall@10 and 21% MAP@10** on the test dataset. This metric evaluation is limited by the size of the test set, but the model was evaluated on realistic job descriptions with hand-mapped ground truths. While zero-shot and untrained, the approach is quantifiably competitive and robust."
   ]
  },
  {
   "cell_type": "code",
   "execution_count": 1,
   "metadata": {
    "_cell_guid": "b1076dfc-b9ad-4769-8c92-a6c4dae69d19",
    "_uuid": "8f2839f25d086af736a60e9eeb907d3b93b6e0e5",
    "execution": {
     "iopub.execute_input": "2025-05-04T23:57:07.923988Z",
     "iopub.status.busy": "2025-05-04T23:57:07.923705Z",
     "iopub.status.idle": "2025-05-04T23:57:08.249014Z",
     "shell.execute_reply": "2025-05-04T23:57:08.248103Z",
     "shell.execute_reply.started": "2025-05-04T23:57:07.923969Z"
    },
    "trusted": true
   },
   "outputs": [
    {
     "name": "stdout",
     "output_type": "stream",
     "text": [
      "/kaggle/input/shl-product-catalog/individual_assessments.csv\n",
      "/kaggle/input/shl-product-catalog/prepackaged_assessments.csv\n"
     ]
    }
   ],
   "source": [
    "# This Python 3 environment comes with many helpful analytics libraries installed\n",
    "# It is defined by the kaggle/python Docker image: https://github.com/kaggle/docker-python\n",
    "# For example, here's several helpful packages to load\n",
    "\n",
    "import numpy as np # linear algebra\n",
    "import pandas as pd # data processing, CSV file I/O (e.g. pd.read_csv)\n",
    "\n",
    "# Input data files are available in the read-only \"../input/\" directory\n",
    "# For example, running this (by clicking run or pressing Shift+Enter) will list all files under the input directory\n",
    "\n",
    "import os\n",
    "for dirname, _, filenames in os.walk('/kaggle/input'):\n",
    "    for filename in filenames:\n",
    "        print(os.path.join(dirname, filename))\n",
    "\n",
    "# You can write up to 20GB to the current directory (/kaggle/working/) that gets preserved as output when you create a version using \"Save & Run All\" \n",
    "# You can also write temporary files to /kaggle/temp/, but they won't be saved outside of the current session"
   ]
  },
  {
   "cell_type": "markdown",
   "metadata": {},
   "source": [
    "# Data Cleaning"
   ]
  },
  {
   "cell_type": "code",
   "execution_count": 2,
   "metadata": {
    "execution": {
     "iopub.execute_input": "2025-05-04T23:57:08.250822Z",
     "iopub.status.busy": "2025-05-04T23:57:08.250345Z",
     "iopub.status.idle": "2025-05-04T23:57:08.305193Z",
     "shell.execute_reply": "2025-05-04T23:57:08.304357Z",
     "shell.execute_reply.started": "2025-05-04T23:57:08.250788Z"
    },
    "trusted": true
   },
   "outputs": [
    {
     "name": "stdout",
     "output_type": "stream",
     "text": [
      "<class 'pandas.core.frame.DataFrame'>\n",
      "RangeIndex: 515 entries, 0 to 514\n",
      "Data columns (total 7 columns):\n",
      " #   Column            Non-Null Count  Dtype \n",
      "---  ------            --------------  ----- \n",
      " 0   url               515 non-null    object\n",
      " 1   title             515 non-null    object\n",
      " 2   description       515 non-null    object\n",
      " 3   remote_support    515 non-null    object\n",
      " 4   duration          451 non-null    object\n",
      " 5   test_types        515 non-null    object\n",
      " 6   adaptive_support  515 non-null    object\n",
      "dtypes: object(7)\n",
      "memory usage: 28.3+ KB\n"
     ]
    }
   ],
   "source": [
    "df1 = pd.read_csv(\"/kaggle/input/shl-product-catalog/individual_assessments.csv\")\n",
    "df2 = pd.read_csv(\"/kaggle/input/shl-product-catalog/prepackaged_assessments.csv\")\n",
    "\n",
    "df = pd.concat([df1, df2], ignore_index=True)\n",
    "df.info()"
   ]
  },
  {
   "cell_type": "code",
   "execution_count": 3,
   "metadata": {
    "execution": {
     "iopub.execute_input": "2025-05-04T23:57:08.306198Z",
     "iopub.status.busy": "2025-05-04T23:57:08.305977Z",
     "iopub.status.idle": "2025-05-04T23:57:08.324898Z",
     "shell.execute_reply": "2025-05-04T23:57:08.324177Z",
     "shell.execute_reply.started": "2025-05-04T23:57:08.306177Z"
    },
    "trusted": true
   },
   "outputs": [
    {
     "data": {
      "text/html": [
       "<div>\n",
       "<style scoped>\n",
       "    .dataframe tbody tr th:only-of-type {\n",
       "        vertical-align: middle;\n",
       "    }\n",
       "\n",
       "    .dataframe tbody tr th {\n",
       "        vertical-align: top;\n",
       "    }\n",
       "\n",
       "    .dataframe thead th {\n",
       "        text-align: right;\n",
       "    }\n",
       "</style>\n",
       "<table border=\"1\" class=\"dataframe\">\n",
       "  <thead>\n",
       "    <tr style=\"text-align: right;\">\n",
       "      <th></th>\n",
       "      <th>url</th>\n",
       "      <th>title</th>\n",
       "      <th>description</th>\n",
       "      <th>remote_support</th>\n",
       "      <th>duration</th>\n",
       "      <th>test_types</th>\n",
       "      <th>adaptive_support</th>\n",
       "    </tr>\n",
       "  </thead>\n",
       "  <tbody>\n",
       "    <tr>\n",
       "      <th>0</th>\n",
       "      <td>https://www.shl.com/products/product-catalog/v...</td>\n",
       "      <td>Global Skills Development Report</td>\n",
       "      <td>This report is designed to be given to individ...</td>\n",
       "      <td>no</td>\n",
       "      <td>NaN</td>\n",
       "      <td>['Ability &amp; Aptitude', 'Assessment Exercises',...</td>\n",
       "      <td>no</td>\n",
       "    </tr>\n",
       "    <tr>\n",
       "      <th>1</th>\n",
       "      <td>https://www.shl.com/products/product-catalog/v...</td>\n",
       "      <td>.NET MVC (New)</td>\n",
       "      <td>Multi-choice test that measures the knowledge ...</td>\n",
       "      <td>yes</td>\n",
       "      <td>Approximate Completion Time in minutes = 17</td>\n",
       "      <td>['Knowledge &amp; Skills']</td>\n",
       "      <td>no</td>\n",
       "    </tr>\n",
       "    <tr>\n",
       "      <th>2</th>\n",
       "      <td>https://www.shl.com/products/product-catalog/v...</td>\n",
       "      <td>.NET MVVM (New)</td>\n",
       "      <td>Multi-choice test that measures the knowledge ...</td>\n",
       "      <td>yes</td>\n",
       "      <td>Approximate Completion Time in minutes = 5</td>\n",
       "      <td>['Knowledge &amp; Skills']</td>\n",
       "      <td>no</td>\n",
       "    </tr>\n",
       "    <tr>\n",
       "      <th>3</th>\n",
       "      <td>https://www.shl.com/products/product-catalog/v...</td>\n",
       "      <td>.NET Framework 4.5</td>\n",
       "      <td>The.NET Framework 4.5 test measures knowledge ...</td>\n",
       "      <td>yes</td>\n",
       "      <td>Approximate Completion Time in minutes = 30</td>\n",
       "      <td>['Knowledge &amp; Skills']</td>\n",
       "      <td>yes</td>\n",
       "    </tr>\n",
       "    <tr>\n",
       "      <th>4</th>\n",
       "      <td>https://www.shl.com/products/product-catalog/v...</td>\n",
       "      <td>.NET WPF (New)</td>\n",
       "      <td>Multi-choice test that measures the knowledge ...</td>\n",
       "      <td>yes</td>\n",
       "      <td>Approximate Completion Time in minutes = 9</td>\n",
       "      <td>['Knowledge &amp; Skills']</td>\n",
       "      <td>no</td>\n",
       "    </tr>\n",
       "  </tbody>\n",
       "</table>\n",
       "</div>"
      ],
      "text/plain": [
       "                                                 url  \\\n",
       "0  https://www.shl.com/products/product-catalog/v...   \n",
       "1  https://www.shl.com/products/product-catalog/v...   \n",
       "2  https://www.shl.com/products/product-catalog/v...   \n",
       "3  https://www.shl.com/products/product-catalog/v...   \n",
       "4  https://www.shl.com/products/product-catalog/v...   \n",
       "\n",
       "                              title  \\\n",
       "0  Global Skills Development Report   \n",
       "1                    .NET MVC (New)   \n",
       "2                   .NET MVVM (New)   \n",
       "3                .NET Framework 4.5   \n",
       "4                    .NET WPF (New)   \n",
       "\n",
       "                                         description remote_support  \\\n",
       "0  This report is designed to be given to individ...             no   \n",
       "1  Multi-choice test that measures the knowledge ...            yes   \n",
       "2  Multi-choice test that measures the knowledge ...            yes   \n",
       "3  The.NET Framework 4.5 test measures knowledge ...            yes   \n",
       "4  Multi-choice test that measures the knowledge ...            yes   \n",
       "\n",
       "                                      duration  \\\n",
       "0                                          NaN   \n",
       "1  Approximate Completion Time in minutes = 17   \n",
       "2   Approximate Completion Time in minutes = 5   \n",
       "3  Approximate Completion Time in minutes = 30   \n",
       "4   Approximate Completion Time in minutes = 9   \n",
       "\n",
       "                                          test_types adaptive_support  \n",
       "0  ['Ability & Aptitude', 'Assessment Exercises',...               no  \n",
       "1                             ['Knowledge & Skills']               no  \n",
       "2                             ['Knowledge & Skills']               no  \n",
       "3                             ['Knowledge & Skills']              yes  \n",
       "4                             ['Knowledge & Skills']               no  "
      ]
     },
     "execution_count": 3,
     "metadata": {},
     "output_type": "execute_result"
    }
   ],
   "source": [
    "df.head(5)"
   ]
  },
  {
   "cell_type": "code",
   "execution_count": 4,
   "metadata": {
    "execution": {
     "iopub.execute_input": "2025-05-04T23:57:08.326367Z",
     "iopub.status.busy": "2025-05-04T23:57:08.326109Z",
     "iopub.status.idle": "2025-05-04T23:57:08.332778Z",
     "shell.execute_reply": "2025-05-04T23:57:08.332128Z",
     "shell.execute_reply.started": "2025-05-04T23:57:08.326344Z"
    },
    "trusted": true
   },
   "outputs": [
    {
     "data": {
      "text/plain": [
       "url                 False\n",
       "title               False\n",
       "description         False\n",
       "remote_support      False\n",
       "duration             True\n",
       "test_types          False\n",
       "adaptive_support    False\n",
       "dtype: bool"
      ]
     },
     "execution_count": 4,
     "metadata": {},
     "output_type": "execute_result"
    }
   ],
   "source": [
    "df.isna().any()"
   ]
  },
  {
   "cell_type": "code",
   "execution_count": 5,
   "metadata": {
    "execution": {
     "iopub.execute_input": "2025-05-04T23:57:08.333790Z",
     "iopub.status.busy": "2025-05-04T23:57:08.333555Z",
     "iopub.status.idle": "2025-05-04T23:57:08.351096Z",
     "shell.execute_reply": "2025-05-04T23:57:08.350379Z",
     "shell.execute_reply.started": "2025-05-04T23:57:08.333771Z"
    },
    "trusted": true
   },
   "outputs": [],
   "source": [
    "df_clean = df.dropna().reset_index(drop=True)"
   ]
  },
  {
   "cell_type": "code",
   "execution_count": 6,
   "metadata": {
    "execution": {
     "iopub.execute_input": "2025-05-04T23:57:08.351966Z",
     "iopub.status.busy": "2025-05-04T23:57:08.351787Z",
     "iopub.status.idle": "2025-05-04T23:57:08.368801Z",
     "shell.execute_reply": "2025-05-04T23:57:08.368071Z",
     "shell.execute_reply.started": "2025-05-04T23:57:08.351951Z"
    },
    "trusted": true
   },
   "outputs": [
    {
     "name": "stdout",
     "output_type": "stream",
     "text": [
      "<class 'pandas.core.frame.DataFrame'>\n",
      "RangeIndex: 451 entries, 0 to 450\n",
      "Data columns (total 7 columns):\n",
      " #   Column            Non-Null Count  Dtype \n",
      "---  ------            --------------  ----- \n",
      " 0   url               451 non-null    object\n",
      " 1   title             451 non-null    object\n",
      " 2   description       451 non-null    object\n",
      " 3   remote_support    451 non-null    object\n",
      " 4   duration          451 non-null    object\n",
      " 5   test_types        451 non-null    object\n",
      " 6   adaptive_support  451 non-null    object\n",
      "dtypes: object(7)\n",
      "memory usage: 24.8+ KB\n"
     ]
    }
   ],
   "source": [
    "df_clean.info()"
   ]
  },
  {
   "cell_type": "code",
   "execution_count": 7,
   "metadata": {
    "execution": {
     "iopub.execute_input": "2025-05-04T23:57:08.369874Z",
     "iopub.status.busy": "2025-05-04T23:57:08.369623Z",
     "iopub.status.idle": "2025-05-04T23:57:08.387808Z",
     "shell.execute_reply": "2025-05-04T23:57:08.386890Z",
     "shell.execute_reply.started": "2025-05-04T23:57:08.369857Z"
    },
    "trusted": true
   },
   "outputs": [],
   "source": [
    "import re                          # Finds mean if range of durations given\n",
    "df_clean['duration_minutes'] = df_clean['duration'].apply(lambda x: np.mean([int(i) for i in re.findall(r'\\d+', str(x))]) if re.findall(r'\\d+', str(x)) else np.nan)"
   ]
  },
  {
   "cell_type": "code",
   "execution_count": 8,
   "metadata": {
    "execution": {
     "iopub.execute_input": "2025-05-04T23:57:08.388769Z",
     "iopub.status.busy": "2025-05-04T23:57:08.388535Z",
     "iopub.status.idle": "2025-05-04T23:57:08.402713Z",
     "shell.execute_reply": "2025-05-04T23:57:08.401914Z",
     "shell.execute_reply.started": "2025-05-04T23:57:08.388745Z"
    },
    "trusted": true
   },
   "outputs": [],
   "source": [
    "df_clean['duration'] = df_clean['duration_minutes']\n",
    "df_clean = df_clean.drop(columns=['duration_minutes'])"
   ]
  },
  {
   "cell_type": "code",
   "execution_count": 9,
   "metadata": {
    "execution": {
     "iopub.execute_input": "2025-05-04T23:57:08.403987Z",
     "iopub.status.busy": "2025-05-04T23:57:08.403697Z",
     "iopub.status.idle": "2025-05-04T23:57:08.421576Z",
     "shell.execute_reply": "2025-05-04T23:57:08.420670Z",
     "shell.execute_reply.started": "2025-05-04T23:57:08.403963Z"
    },
    "trusted": true
   },
   "outputs": [
    {
     "data": {
      "text/html": [
       "<div>\n",
       "<style scoped>\n",
       "    .dataframe tbody tr th:only-of-type {\n",
       "        vertical-align: middle;\n",
       "    }\n",
       "\n",
       "    .dataframe tbody tr th {\n",
       "        vertical-align: top;\n",
       "    }\n",
       "\n",
       "    .dataframe thead th {\n",
       "        text-align: right;\n",
       "    }\n",
       "</style>\n",
       "<table border=\"1\" class=\"dataframe\">\n",
       "  <thead>\n",
       "    <tr style=\"text-align: right;\">\n",
       "      <th></th>\n",
       "      <th>url</th>\n",
       "      <th>title</th>\n",
       "      <th>description</th>\n",
       "      <th>remote_support</th>\n",
       "      <th>duration</th>\n",
       "      <th>test_types</th>\n",
       "      <th>adaptive_support</th>\n",
       "    </tr>\n",
       "  </thead>\n",
       "  <tbody>\n",
       "    <tr>\n",
       "      <th>0</th>\n",
       "      <td>https://www.shl.com/products/product-catalog/v...</td>\n",
       "      <td>.NET MVC (New)</td>\n",
       "      <td>Multi-choice test that measures the knowledge ...</td>\n",
       "      <td>yes</td>\n",
       "      <td>17.0</td>\n",
       "      <td>['Knowledge &amp; Skills']</td>\n",
       "      <td>no</td>\n",
       "    </tr>\n",
       "    <tr>\n",
       "      <th>1</th>\n",
       "      <td>https://www.shl.com/products/product-catalog/v...</td>\n",
       "      <td>.NET MVVM (New)</td>\n",
       "      <td>Multi-choice test that measures the knowledge ...</td>\n",
       "      <td>yes</td>\n",
       "      <td>5.0</td>\n",
       "      <td>['Knowledge &amp; Skills']</td>\n",
       "      <td>no</td>\n",
       "    </tr>\n",
       "    <tr>\n",
       "      <th>2</th>\n",
       "      <td>https://www.shl.com/products/product-catalog/v...</td>\n",
       "      <td>.NET Framework 4.5</td>\n",
       "      <td>The.NET Framework 4.5 test measures knowledge ...</td>\n",
       "      <td>yes</td>\n",
       "      <td>30.0</td>\n",
       "      <td>['Knowledge &amp; Skills']</td>\n",
       "      <td>yes</td>\n",
       "    </tr>\n",
       "    <tr>\n",
       "      <th>3</th>\n",
       "      <td>https://www.shl.com/products/product-catalog/v...</td>\n",
       "      <td>.NET WPF (New)</td>\n",
       "      <td>Multi-choice test that measures the knowledge ...</td>\n",
       "      <td>yes</td>\n",
       "      <td>9.0</td>\n",
       "      <td>['Knowledge &amp; Skills']</td>\n",
       "      <td>no</td>\n",
       "    </tr>\n",
       "    <tr>\n",
       "      <th>4</th>\n",
       "      <td>https://www.shl.com/products/product-catalog/v...</td>\n",
       "      <td>Accounts Payable (New)</td>\n",
       "      <td>Multiple-choice test that measures the knowled...</td>\n",
       "      <td>yes</td>\n",
       "      <td>9.0</td>\n",
       "      <td>['Knowledge &amp; Skills']</td>\n",
       "      <td>no</td>\n",
       "    </tr>\n",
       "    <tr>\n",
       "      <th>...</th>\n",
       "      <td>...</td>\n",
       "      <td>...</td>\n",
       "      <td>...</td>\n",
       "      <td>...</td>\n",
       "      <td>...</td>\n",
       "      <td>...</td>\n",
       "      <td>...</td>\n",
       "    </tr>\n",
       "    <tr>\n",
       "      <th>446</th>\n",
       "      <td>https://www.shl.com/products/product-catalog/v...</td>\n",
       "      <td>Workplace Safety - Individual 7.0 Solution</td>\n",
       "      <td>Our Workplace Safety - Individual 7.0 solution...</td>\n",
       "      <td>yes</td>\n",
       "      <td>16.0</td>\n",
       "      <td>['Biodata &amp; Situational Judgement']</td>\n",
       "      <td>no</td>\n",
       "    </tr>\n",
       "    <tr>\n",
       "      <th>447</th>\n",
       "      <td>https://www.shl.com/products/product-catalog/v...</td>\n",
       "      <td>Teller 7.0</td>\n",
       "      <td>Teller or cashier positions are integral to fi...</td>\n",
       "      <td>yes</td>\n",
       "      <td>35.0</td>\n",
       "      <td>['Biodata &amp; Situational Judgement', 'Knowledge...</td>\n",
       "      <td>yes</td>\n",
       "    </tr>\n",
       "    <tr>\n",
       "      <th>448</th>\n",
       "      <td>https://www.shl.com/products/product-catalog/v...</td>\n",
       "      <td>Workplace Safety - Team 7.1 (International)</td>\n",
       "      <td>The Workplace Safety – Team 7.1 solution is de...</td>\n",
       "      <td>yes</td>\n",
       "      <td>20.0</td>\n",
       "      <td>['Biodata &amp; Situational Judgement', 'Competenc...</td>\n",
       "      <td>no</td>\n",
       "    </tr>\n",
       "    <tr>\n",
       "      <th>449</th>\n",
       "      <td>https://www.shl.com/products/product-catalog/v...</td>\n",
       "      <td>Workplace Safety - Team 7.0 Solution</td>\n",
       "      <td>The Workplace Safety – Team 7.0 solution is de...</td>\n",
       "      <td>yes</td>\n",
       "      <td>20.0</td>\n",
       "      <td>['Biodata &amp; Situational Judgement']</td>\n",
       "      <td>no</td>\n",
       "    </tr>\n",
       "    <tr>\n",
       "      <th>450</th>\n",
       "      <td>https://www.shl.com/products/product-catalog/v...</td>\n",
       "      <td>Workplace Safety Solution</td>\n",
       "      <td>The Workplace Safety Solution is designed for ...</td>\n",
       "      <td>yes</td>\n",
       "      <td>21.0</td>\n",
       "      <td>['Biodata &amp; Situational Judgement', 'Personali...</td>\n",
       "      <td>yes</td>\n",
       "    </tr>\n",
       "  </tbody>\n",
       "</table>\n",
       "<p>451 rows × 7 columns</p>\n",
       "</div>"
      ],
      "text/plain": [
       "                                                   url  \\\n",
       "0    https://www.shl.com/products/product-catalog/v...   \n",
       "1    https://www.shl.com/products/product-catalog/v...   \n",
       "2    https://www.shl.com/products/product-catalog/v...   \n",
       "3    https://www.shl.com/products/product-catalog/v...   \n",
       "4    https://www.shl.com/products/product-catalog/v...   \n",
       "..                                                 ...   \n",
       "446  https://www.shl.com/products/product-catalog/v...   \n",
       "447  https://www.shl.com/products/product-catalog/v...   \n",
       "448  https://www.shl.com/products/product-catalog/v...   \n",
       "449  https://www.shl.com/products/product-catalog/v...   \n",
       "450  https://www.shl.com/products/product-catalog/v...   \n",
       "\n",
       "                                           title  \\\n",
       "0                                 .NET MVC (New)   \n",
       "1                                .NET MVVM (New)   \n",
       "2                             .NET Framework 4.5   \n",
       "3                                 .NET WPF (New)   \n",
       "4                         Accounts Payable (New)   \n",
       "..                                           ...   \n",
       "446   Workplace Safety - Individual 7.0 Solution   \n",
       "447                                   Teller 7.0   \n",
       "448  Workplace Safety - Team 7.1 (International)   \n",
       "449         Workplace Safety - Team 7.0 Solution   \n",
       "450                    Workplace Safety Solution   \n",
       "\n",
       "                                           description remote_support  \\\n",
       "0    Multi-choice test that measures the knowledge ...            yes   \n",
       "1    Multi-choice test that measures the knowledge ...            yes   \n",
       "2    The.NET Framework 4.5 test measures knowledge ...            yes   \n",
       "3    Multi-choice test that measures the knowledge ...            yes   \n",
       "4    Multiple-choice test that measures the knowled...            yes   \n",
       "..                                                 ...            ...   \n",
       "446  Our Workplace Safety - Individual 7.0 solution...            yes   \n",
       "447  Teller or cashier positions are integral to fi...            yes   \n",
       "448  The Workplace Safety – Team 7.1 solution is de...            yes   \n",
       "449  The Workplace Safety – Team 7.0 solution is de...            yes   \n",
       "450  The Workplace Safety Solution is designed for ...            yes   \n",
       "\n",
       "     duration                                         test_types  \\\n",
       "0        17.0                             ['Knowledge & Skills']   \n",
       "1         5.0                             ['Knowledge & Skills']   \n",
       "2        30.0                             ['Knowledge & Skills']   \n",
       "3         9.0                             ['Knowledge & Skills']   \n",
       "4         9.0                             ['Knowledge & Skills']   \n",
       "..        ...                                                ...   \n",
       "446      16.0                ['Biodata & Situational Judgement']   \n",
       "447      35.0  ['Biodata & Situational Judgement', 'Knowledge...   \n",
       "448      20.0  ['Biodata & Situational Judgement', 'Competenc...   \n",
       "449      20.0                ['Biodata & Situational Judgement']   \n",
       "450      21.0  ['Biodata & Situational Judgement', 'Personali...   \n",
       "\n",
       "    adaptive_support  \n",
       "0                 no  \n",
       "1                 no  \n",
       "2                yes  \n",
       "3                 no  \n",
       "4                 no  \n",
       "..               ...  \n",
       "446               no  \n",
       "447              yes  \n",
       "448               no  \n",
       "449               no  \n",
       "450              yes  \n",
       "\n",
       "[451 rows x 7 columns]"
      ]
     },
     "execution_count": 9,
     "metadata": {},
     "output_type": "execute_result"
    }
   ],
   "source": [
    "df_clean"
   ]
  },
  {
   "cell_type": "code",
   "execution_count": 10,
   "metadata": {
    "execution": {
     "iopub.execute_input": "2025-05-04T23:57:08.424727Z",
     "iopub.status.busy": "2025-05-04T23:57:08.424515Z",
     "iopub.status.idle": "2025-05-04T23:57:08.432240Z",
     "shell.execute_reply": "2025-05-04T23:57:08.431365Z",
     "shell.execute_reply.started": "2025-05-04T23:57:08.424712Z"
    },
    "trusted": true
   },
   "outputs": [],
   "source": [
    "df_clean['remote_support'] = 'yes'"
   ]
  },
  {
   "cell_type": "code",
   "execution_count": 11,
   "metadata": {
    "execution": {
     "iopub.execute_input": "2025-05-04T23:57:08.433413Z",
     "iopub.status.busy": "2025-05-04T23:57:08.433100Z",
     "iopub.status.idle": "2025-05-04T23:57:08.451133Z",
     "shell.execute_reply": "2025-05-04T23:57:08.450381Z",
     "shell.execute_reply.started": "2025-05-04T23:57:08.433388Z"
    },
    "trusted": true
   },
   "outputs": [
    {
     "data": {
      "text/html": [
       "<div>\n",
       "<style scoped>\n",
       "    .dataframe tbody tr th:only-of-type {\n",
       "        vertical-align: middle;\n",
       "    }\n",
       "\n",
       "    .dataframe tbody tr th {\n",
       "        vertical-align: top;\n",
       "    }\n",
       "\n",
       "    .dataframe thead th {\n",
       "        text-align: right;\n",
       "    }\n",
       "</style>\n",
       "<table border=\"1\" class=\"dataframe\">\n",
       "  <thead>\n",
       "    <tr style=\"text-align: right;\">\n",
       "      <th></th>\n",
       "      <th>url</th>\n",
       "      <th>title</th>\n",
       "      <th>description</th>\n",
       "      <th>remote_support</th>\n",
       "      <th>duration</th>\n",
       "      <th>test_types</th>\n",
       "      <th>adaptive_support</th>\n",
       "    </tr>\n",
       "  </thead>\n",
       "  <tbody>\n",
       "    <tr>\n",
       "      <th>0</th>\n",
       "      <td>https://www.shl.com/products/product-catalog/v...</td>\n",
       "      <td>.NET MVC (New)</td>\n",
       "      <td>Multi-choice test that measures the knowledge ...</td>\n",
       "      <td>yes</td>\n",
       "      <td>17.0</td>\n",
       "      <td>['Knowledge &amp; Skills']</td>\n",
       "      <td>no</td>\n",
       "    </tr>\n",
       "    <tr>\n",
       "      <th>1</th>\n",
       "      <td>https://www.shl.com/products/product-catalog/v...</td>\n",
       "      <td>.NET MVVM (New)</td>\n",
       "      <td>Multi-choice test that measures the knowledge ...</td>\n",
       "      <td>yes</td>\n",
       "      <td>5.0</td>\n",
       "      <td>['Knowledge &amp; Skills']</td>\n",
       "      <td>no</td>\n",
       "    </tr>\n",
       "    <tr>\n",
       "      <th>2</th>\n",
       "      <td>https://www.shl.com/products/product-catalog/v...</td>\n",
       "      <td>.NET Framework 4.5</td>\n",
       "      <td>The.NET Framework 4.5 test measures knowledge ...</td>\n",
       "      <td>yes</td>\n",
       "      <td>30.0</td>\n",
       "      <td>['Knowledge &amp; Skills']</td>\n",
       "      <td>yes</td>\n",
       "    </tr>\n",
       "    <tr>\n",
       "      <th>3</th>\n",
       "      <td>https://www.shl.com/products/product-catalog/v...</td>\n",
       "      <td>.NET WPF (New)</td>\n",
       "      <td>Multi-choice test that measures the knowledge ...</td>\n",
       "      <td>yes</td>\n",
       "      <td>9.0</td>\n",
       "      <td>['Knowledge &amp; Skills']</td>\n",
       "      <td>no</td>\n",
       "    </tr>\n",
       "    <tr>\n",
       "      <th>4</th>\n",
       "      <td>https://www.shl.com/products/product-catalog/v...</td>\n",
       "      <td>Accounts Payable (New)</td>\n",
       "      <td>Multiple-choice test that measures the knowled...</td>\n",
       "      <td>yes</td>\n",
       "      <td>9.0</td>\n",
       "      <td>['Knowledge &amp; Skills']</td>\n",
       "      <td>no</td>\n",
       "    </tr>\n",
       "    <tr>\n",
       "      <th>...</th>\n",
       "      <td>...</td>\n",
       "      <td>...</td>\n",
       "      <td>...</td>\n",
       "      <td>...</td>\n",
       "      <td>...</td>\n",
       "      <td>...</td>\n",
       "      <td>...</td>\n",
       "    </tr>\n",
       "    <tr>\n",
       "      <th>446</th>\n",
       "      <td>https://www.shl.com/products/product-catalog/v...</td>\n",
       "      <td>Workplace Safety - Individual 7.0 Solution</td>\n",
       "      <td>Our Workplace Safety - Individual 7.0 solution...</td>\n",
       "      <td>yes</td>\n",
       "      <td>16.0</td>\n",
       "      <td>['Biodata &amp; Situational Judgement']</td>\n",
       "      <td>no</td>\n",
       "    </tr>\n",
       "    <tr>\n",
       "      <th>447</th>\n",
       "      <td>https://www.shl.com/products/product-catalog/v...</td>\n",
       "      <td>Teller 7.0</td>\n",
       "      <td>Teller or cashier positions are integral to fi...</td>\n",
       "      <td>yes</td>\n",
       "      <td>35.0</td>\n",
       "      <td>['Biodata &amp; Situational Judgement', 'Knowledge...</td>\n",
       "      <td>yes</td>\n",
       "    </tr>\n",
       "    <tr>\n",
       "      <th>448</th>\n",
       "      <td>https://www.shl.com/products/product-catalog/v...</td>\n",
       "      <td>Workplace Safety - Team 7.1 (International)</td>\n",
       "      <td>The Workplace Safety – Team 7.1 solution is de...</td>\n",
       "      <td>yes</td>\n",
       "      <td>20.0</td>\n",
       "      <td>['Biodata &amp; Situational Judgement', 'Competenc...</td>\n",
       "      <td>no</td>\n",
       "    </tr>\n",
       "    <tr>\n",
       "      <th>449</th>\n",
       "      <td>https://www.shl.com/products/product-catalog/v...</td>\n",
       "      <td>Workplace Safety - Team 7.0 Solution</td>\n",
       "      <td>The Workplace Safety – Team 7.0 solution is de...</td>\n",
       "      <td>yes</td>\n",
       "      <td>20.0</td>\n",
       "      <td>['Biodata &amp; Situational Judgement']</td>\n",
       "      <td>no</td>\n",
       "    </tr>\n",
       "    <tr>\n",
       "      <th>450</th>\n",
       "      <td>https://www.shl.com/products/product-catalog/v...</td>\n",
       "      <td>Workplace Safety Solution</td>\n",
       "      <td>The Workplace Safety Solution is designed for ...</td>\n",
       "      <td>yes</td>\n",
       "      <td>21.0</td>\n",
       "      <td>['Biodata &amp; Situational Judgement', 'Personali...</td>\n",
       "      <td>yes</td>\n",
       "    </tr>\n",
       "  </tbody>\n",
       "</table>\n",
       "<p>451 rows × 7 columns</p>\n",
       "</div>"
      ],
      "text/plain": [
       "                                                   url  \\\n",
       "0    https://www.shl.com/products/product-catalog/v...   \n",
       "1    https://www.shl.com/products/product-catalog/v...   \n",
       "2    https://www.shl.com/products/product-catalog/v...   \n",
       "3    https://www.shl.com/products/product-catalog/v...   \n",
       "4    https://www.shl.com/products/product-catalog/v...   \n",
       "..                                                 ...   \n",
       "446  https://www.shl.com/products/product-catalog/v...   \n",
       "447  https://www.shl.com/products/product-catalog/v...   \n",
       "448  https://www.shl.com/products/product-catalog/v...   \n",
       "449  https://www.shl.com/products/product-catalog/v...   \n",
       "450  https://www.shl.com/products/product-catalog/v...   \n",
       "\n",
       "                                           title  \\\n",
       "0                                 .NET MVC (New)   \n",
       "1                                .NET MVVM (New)   \n",
       "2                             .NET Framework 4.5   \n",
       "3                                 .NET WPF (New)   \n",
       "4                         Accounts Payable (New)   \n",
       "..                                           ...   \n",
       "446   Workplace Safety - Individual 7.0 Solution   \n",
       "447                                   Teller 7.0   \n",
       "448  Workplace Safety - Team 7.1 (International)   \n",
       "449         Workplace Safety - Team 7.0 Solution   \n",
       "450                    Workplace Safety Solution   \n",
       "\n",
       "                                           description remote_support  \\\n",
       "0    Multi-choice test that measures the knowledge ...            yes   \n",
       "1    Multi-choice test that measures the knowledge ...            yes   \n",
       "2    The.NET Framework 4.5 test measures knowledge ...            yes   \n",
       "3    Multi-choice test that measures the knowledge ...            yes   \n",
       "4    Multiple-choice test that measures the knowled...            yes   \n",
       "..                                                 ...            ...   \n",
       "446  Our Workplace Safety - Individual 7.0 solution...            yes   \n",
       "447  Teller or cashier positions are integral to fi...            yes   \n",
       "448  The Workplace Safety – Team 7.1 solution is de...            yes   \n",
       "449  The Workplace Safety – Team 7.0 solution is de...            yes   \n",
       "450  The Workplace Safety Solution is designed for ...            yes   \n",
       "\n",
       "     duration                                         test_types  \\\n",
       "0        17.0                             ['Knowledge & Skills']   \n",
       "1         5.0                             ['Knowledge & Skills']   \n",
       "2        30.0                             ['Knowledge & Skills']   \n",
       "3         9.0                             ['Knowledge & Skills']   \n",
       "4         9.0                             ['Knowledge & Skills']   \n",
       "..        ...                                                ...   \n",
       "446      16.0                ['Biodata & Situational Judgement']   \n",
       "447      35.0  ['Biodata & Situational Judgement', 'Knowledge...   \n",
       "448      20.0  ['Biodata & Situational Judgement', 'Competenc...   \n",
       "449      20.0                ['Biodata & Situational Judgement']   \n",
       "450      21.0  ['Biodata & Situational Judgement', 'Personali...   \n",
       "\n",
       "    adaptive_support  \n",
       "0                 no  \n",
       "1                 no  \n",
       "2                yes  \n",
       "3                 no  \n",
       "4                 no  \n",
       "..               ...  \n",
       "446               no  \n",
       "447              yes  \n",
       "448               no  \n",
       "449               no  \n",
       "450              yes  \n",
       "\n",
       "[451 rows x 7 columns]"
      ]
     },
     "execution_count": 11,
     "metadata": {},
     "output_type": "execute_result"
    }
   ],
   "source": [
    "df_clean"
   ]
  },
  {
   "cell_type": "code",
   "execution_count": 12,
   "metadata": {
    "execution": {
     "iopub.execute_input": "2025-05-04T23:57:08.452182Z",
     "iopub.status.busy": "2025-05-04T23:57:08.451978Z",
     "iopub.status.idle": "2025-05-04T23:57:08.468693Z",
     "shell.execute_reply": "2025-05-04T23:57:08.467864Z",
     "shell.execute_reply.started": "2025-05-04T23:57:08.452167Z"
    },
    "trusted": true
   },
   "outputs": [
    {
     "name": "stdout",
     "output_type": "stream",
     "text": [
      "['Knowledge & Skills']\n"
     ]
    }
   ],
   "source": [
    "import ast\n",
    "df_clean['test_types'] = df_clean['test_types'].apply(ast.literal_eval)\n",
    "\n",
    "print(df_clean['test_types'].iloc[0])\n"
   ]
  },
  {
   "cell_type": "code",
   "execution_count": 13,
   "metadata": {
    "execution": {
     "iopub.execute_input": "2025-05-04T23:57:08.469533Z",
     "iopub.status.busy": "2025-05-04T23:57:08.469287Z",
     "iopub.status.idle": "2025-05-04T23:57:08.490202Z",
     "shell.execute_reply": "2025-05-04T23:57:08.489378Z",
     "shell.execute_reply.started": "2025-05-04T23:57:08.469512Z"
    },
    "trusted": true
   },
   "outputs": [
    {
     "name": "stderr",
     "output_type": "stream",
     "text": [
      "/tmp/ipykernel_121/1309372073.py:1: FutureWarning: Downcasting behavior in `replace` is deprecated and will be removed in a future version. To retain the old behavior, explicitly call `result.infer_objects(copy=False)`. To opt-in to the future behavior, set `pd.set_option('future.no_silent_downcasting', True)`\n",
      "  df_clean['remote_support'] = df_clean['remote_support'].replace({'yes': True, 'no': False})\n",
      "/tmp/ipykernel_121/1309372073.py:2: FutureWarning: Downcasting behavior in `replace` is deprecated and will be removed in a future version. To retain the old behavior, explicitly call `result.infer_objects(copy=False)`. To opt-in to the future behavior, set `pd.set_option('future.no_silent_downcasting', True)`\n",
      "  df_clean['adaptive_support'] = df_clean['adaptive_support'].replace({'yes': True, 'no': False})\n"
     ]
    },
    {
     "data": {
      "text/html": [
       "<div>\n",
       "<style scoped>\n",
       "    .dataframe tbody tr th:only-of-type {\n",
       "        vertical-align: middle;\n",
       "    }\n",
       "\n",
       "    .dataframe tbody tr th {\n",
       "        vertical-align: top;\n",
       "    }\n",
       "\n",
       "    .dataframe thead th {\n",
       "        text-align: right;\n",
       "    }\n",
       "</style>\n",
       "<table border=\"1\" class=\"dataframe\">\n",
       "  <thead>\n",
       "    <tr style=\"text-align: right;\">\n",
       "      <th></th>\n",
       "      <th>url</th>\n",
       "      <th>title</th>\n",
       "      <th>description</th>\n",
       "      <th>remote_support</th>\n",
       "      <th>duration</th>\n",
       "      <th>test_types</th>\n",
       "      <th>adaptive_support</th>\n",
       "    </tr>\n",
       "  </thead>\n",
       "  <tbody>\n",
       "    <tr>\n",
       "      <th>441</th>\n",
       "      <td>https://www.shl.com/products/product-catalog/v...</td>\n",
       "      <td>Telenurse Solution</td>\n",
       "      <td>The Telenurse solution is for positions in a h...</td>\n",
       "      <td>True</td>\n",
       "      <td>68.0</td>\n",
       "      <td>[Ability &amp; Aptitude, Biodata &amp; Situational Jud...</td>\n",
       "      <td>True</td>\n",
       "    </tr>\n",
       "    <tr>\n",
       "      <th>442</th>\n",
       "      <td>https://www.shl.com/products/product-catalog/v...</td>\n",
       "      <td>Workplace Safety - Team 7.1 (Americas)</td>\n",
       "      <td>The Workplace Safety – Team 7.1 solution is de...</td>\n",
       "      <td>True</td>\n",
       "      <td>20.0</td>\n",
       "      <td>[Biodata &amp; Situational Judgement, Competencies...</td>\n",
       "      <td>False</td>\n",
       "    </tr>\n",
       "    <tr>\n",
       "      <th>443</th>\n",
       "      <td>https://www.shl.com/products/product-catalog/v...</td>\n",
       "      <td>Workplace Safety - Individual 7.1 (Americas)</td>\n",
       "      <td>Our Workplace Safety - Individual 7.1 solution...</td>\n",
       "      <td>True</td>\n",
       "      <td>16.0</td>\n",
       "      <td>[Biodata &amp; Situational Judgement]</td>\n",
       "      <td>False</td>\n",
       "    </tr>\n",
       "    <tr>\n",
       "      <th>444</th>\n",
       "      <td>https://www.shl.com/products/product-catalog/v...</td>\n",
       "      <td>Teller with Sales - Short Form</td>\n",
       "      <td>The Teller solution with Sales is for entry-le...</td>\n",
       "      <td>True</td>\n",
       "      <td>35.0</td>\n",
       "      <td>[Ability &amp; Aptitude, Biodata &amp; Situational Jud...</td>\n",
       "      <td>False</td>\n",
       "    </tr>\n",
       "    <tr>\n",
       "      <th>445</th>\n",
       "      <td>https://www.shl.com/products/product-catalog/v...</td>\n",
       "      <td>Transcriptionist Solution</td>\n",
       "      <td>The Transcriptionist solution is for entry-lev...</td>\n",
       "      <td>True</td>\n",
       "      <td>33.0</td>\n",
       "      <td>[Ability &amp; Aptitude, Biodata &amp; Situational Jud...</td>\n",
       "      <td>True</td>\n",
       "    </tr>\n",
       "    <tr>\n",
       "      <th>446</th>\n",
       "      <td>https://www.shl.com/products/product-catalog/v...</td>\n",
       "      <td>Workplace Safety - Individual 7.0 Solution</td>\n",
       "      <td>Our Workplace Safety - Individual 7.0 solution...</td>\n",
       "      <td>True</td>\n",
       "      <td>16.0</td>\n",
       "      <td>[Biodata &amp; Situational Judgement]</td>\n",
       "      <td>False</td>\n",
       "    </tr>\n",
       "    <tr>\n",
       "      <th>447</th>\n",
       "      <td>https://www.shl.com/products/product-catalog/v...</td>\n",
       "      <td>Teller 7.0</td>\n",
       "      <td>Teller or cashier positions are integral to fi...</td>\n",
       "      <td>True</td>\n",
       "      <td>35.0</td>\n",
       "      <td>[Biodata &amp; Situational Judgement, Knowledge &amp; ...</td>\n",
       "      <td>True</td>\n",
       "    </tr>\n",
       "    <tr>\n",
       "      <th>448</th>\n",
       "      <td>https://www.shl.com/products/product-catalog/v...</td>\n",
       "      <td>Workplace Safety - Team 7.1 (International)</td>\n",
       "      <td>The Workplace Safety – Team 7.1 solution is de...</td>\n",
       "      <td>True</td>\n",
       "      <td>20.0</td>\n",
       "      <td>[Biodata &amp; Situational Judgement, Competencies...</td>\n",
       "      <td>False</td>\n",
       "    </tr>\n",
       "    <tr>\n",
       "      <th>449</th>\n",
       "      <td>https://www.shl.com/products/product-catalog/v...</td>\n",
       "      <td>Workplace Safety - Team 7.0 Solution</td>\n",
       "      <td>The Workplace Safety – Team 7.0 solution is de...</td>\n",
       "      <td>True</td>\n",
       "      <td>20.0</td>\n",
       "      <td>[Biodata &amp; Situational Judgement]</td>\n",
       "      <td>False</td>\n",
       "    </tr>\n",
       "    <tr>\n",
       "      <th>450</th>\n",
       "      <td>https://www.shl.com/products/product-catalog/v...</td>\n",
       "      <td>Workplace Safety Solution</td>\n",
       "      <td>The Workplace Safety Solution is designed for ...</td>\n",
       "      <td>True</td>\n",
       "      <td>21.0</td>\n",
       "      <td>[Biodata &amp; Situational Judgement, Personality ...</td>\n",
       "      <td>True</td>\n",
       "    </tr>\n",
       "  </tbody>\n",
       "</table>\n",
       "</div>"
      ],
      "text/plain": [
       "                                                   url  \\\n",
       "441  https://www.shl.com/products/product-catalog/v...   \n",
       "442  https://www.shl.com/products/product-catalog/v...   \n",
       "443  https://www.shl.com/products/product-catalog/v...   \n",
       "444  https://www.shl.com/products/product-catalog/v...   \n",
       "445  https://www.shl.com/products/product-catalog/v...   \n",
       "446  https://www.shl.com/products/product-catalog/v...   \n",
       "447  https://www.shl.com/products/product-catalog/v...   \n",
       "448  https://www.shl.com/products/product-catalog/v...   \n",
       "449  https://www.shl.com/products/product-catalog/v...   \n",
       "450  https://www.shl.com/products/product-catalog/v...   \n",
       "\n",
       "                                            title  \\\n",
       "441                            Telenurse Solution   \n",
       "442        Workplace Safety - Team 7.1 (Americas)   \n",
       "443  Workplace Safety - Individual 7.1 (Americas)   \n",
       "444                Teller with Sales - Short Form   \n",
       "445                     Transcriptionist Solution   \n",
       "446    Workplace Safety - Individual 7.0 Solution   \n",
       "447                                    Teller 7.0   \n",
       "448   Workplace Safety - Team 7.1 (International)   \n",
       "449          Workplace Safety - Team 7.0 Solution   \n",
       "450                     Workplace Safety Solution   \n",
       "\n",
       "                                           description  remote_support  \\\n",
       "441  The Telenurse solution is for positions in a h...            True   \n",
       "442  The Workplace Safety – Team 7.1 solution is de...            True   \n",
       "443  Our Workplace Safety - Individual 7.1 solution...            True   \n",
       "444  The Teller solution with Sales is for entry-le...            True   \n",
       "445  The Transcriptionist solution is for entry-lev...            True   \n",
       "446  Our Workplace Safety - Individual 7.0 solution...            True   \n",
       "447  Teller or cashier positions are integral to fi...            True   \n",
       "448  The Workplace Safety – Team 7.1 solution is de...            True   \n",
       "449  The Workplace Safety – Team 7.0 solution is de...            True   \n",
       "450  The Workplace Safety Solution is designed for ...            True   \n",
       "\n",
       "     duration                                         test_types  \\\n",
       "441      68.0  [Ability & Aptitude, Biodata & Situational Jud...   \n",
       "442      20.0  [Biodata & Situational Judgement, Competencies...   \n",
       "443      16.0                  [Biodata & Situational Judgement]   \n",
       "444      35.0  [Ability & Aptitude, Biodata & Situational Jud...   \n",
       "445      33.0  [Ability & Aptitude, Biodata & Situational Jud...   \n",
       "446      16.0                  [Biodata & Situational Judgement]   \n",
       "447      35.0  [Biodata & Situational Judgement, Knowledge & ...   \n",
       "448      20.0  [Biodata & Situational Judgement, Competencies...   \n",
       "449      20.0                  [Biodata & Situational Judgement]   \n",
       "450      21.0  [Biodata & Situational Judgement, Personality ...   \n",
       "\n",
       "     adaptive_support  \n",
       "441              True  \n",
       "442             False  \n",
       "443             False  \n",
       "444             False  \n",
       "445              True  \n",
       "446             False  \n",
       "447              True  \n",
       "448             False  \n",
       "449             False  \n",
       "450              True  "
      ]
     },
     "execution_count": 13,
     "metadata": {},
     "output_type": "execute_result"
    }
   ],
   "source": [
    "df_clean['remote_support'] = df_clean['remote_support'].replace({'yes': True, 'no': False})\n",
    "df_clean['adaptive_support'] = df_clean['adaptive_support'].replace({'yes': True, 'no': False})\n",
    "\n",
    "df_clean.tail(10)"
   ]
  },
  {
   "cell_type": "code",
   "execution_count": 14,
   "metadata": {
    "execution": {
     "iopub.execute_input": "2025-05-04T23:57:08.491267Z",
     "iopub.status.busy": "2025-05-04T23:57:08.491101Z",
     "iopub.status.idle": "2025-05-04T23:57:08.509427Z",
     "shell.execute_reply": "2025-05-04T23:57:08.508755Z",
     "shell.execute_reply.started": "2025-05-04T23:57:08.491254Z"
    },
    "trusted": true
   },
   "outputs": [
    {
     "data": {
      "text/html": [
       "<div>\n",
       "<style scoped>\n",
       "    .dataframe tbody tr th:only-of-type {\n",
       "        vertical-align: middle;\n",
       "    }\n",
       "\n",
       "    .dataframe tbody tr th {\n",
       "        vertical-align: top;\n",
       "    }\n",
       "\n",
       "    .dataframe thead th {\n",
       "        text-align: right;\n",
       "    }\n",
       "</style>\n",
       "<table border=\"1\" class=\"dataframe\">\n",
       "  <thead>\n",
       "    <tr style=\"text-align: right;\">\n",
       "      <th></th>\n",
       "      <th>url</th>\n",
       "      <th>title</th>\n",
       "      <th>description</th>\n",
       "      <th>remote_support</th>\n",
       "      <th>duration</th>\n",
       "      <th>test_types</th>\n",
       "      <th>adaptive_support</th>\n",
       "    </tr>\n",
       "  </thead>\n",
       "  <tbody>\n",
       "    <tr>\n",
       "      <th>0</th>\n",
       "      <td>https://www.shl.com/products/product-catalog/v...</td>\n",
       "      <td>.NET MVC (New)</td>\n",
       "      <td>Multi-choice test that measures the knowledge ...</td>\n",
       "      <td>True</td>\n",
       "      <td>17.0</td>\n",
       "      <td>[Knowledge &amp; Skills]</td>\n",
       "      <td>False</td>\n",
       "    </tr>\n",
       "    <tr>\n",
       "      <th>1</th>\n",
       "      <td>https://www.shl.com/products/product-catalog/v...</td>\n",
       "      <td>.NET MVVM (New)</td>\n",
       "      <td>Multi-choice test that measures the knowledge ...</td>\n",
       "      <td>True</td>\n",
       "      <td>5.0</td>\n",
       "      <td>[Knowledge &amp; Skills]</td>\n",
       "      <td>False</td>\n",
       "    </tr>\n",
       "    <tr>\n",
       "      <th>2</th>\n",
       "      <td>https://www.shl.com/products/product-catalog/v...</td>\n",
       "      <td>.NET Framework 4.5</td>\n",
       "      <td>The.NET Framework 4.5 test measures knowledge ...</td>\n",
       "      <td>True</td>\n",
       "      <td>30.0</td>\n",
       "      <td>[Knowledge &amp; Skills]</td>\n",
       "      <td>True</td>\n",
       "    </tr>\n",
       "    <tr>\n",
       "      <th>3</th>\n",
       "      <td>https://www.shl.com/products/product-catalog/v...</td>\n",
       "      <td>.NET WPF (New)</td>\n",
       "      <td>Multi-choice test that measures the knowledge ...</td>\n",
       "      <td>True</td>\n",
       "      <td>9.0</td>\n",
       "      <td>[Knowledge &amp; Skills]</td>\n",
       "      <td>False</td>\n",
       "    </tr>\n",
       "    <tr>\n",
       "      <th>4</th>\n",
       "      <td>https://www.shl.com/products/product-catalog/v...</td>\n",
       "      <td>Accounts Payable (New)</td>\n",
       "      <td>Multiple-choice test that measures the knowled...</td>\n",
       "      <td>True</td>\n",
       "      <td>9.0</td>\n",
       "      <td>[Knowledge &amp; Skills]</td>\n",
       "      <td>False</td>\n",
       "    </tr>\n",
       "    <tr>\n",
       "      <th>...</th>\n",
       "      <td>...</td>\n",
       "      <td>...</td>\n",
       "      <td>...</td>\n",
       "      <td>...</td>\n",
       "      <td>...</td>\n",
       "      <td>...</td>\n",
       "      <td>...</td>\n",
       "    </tr>\n",
       "    <tr>\n",
       "      <th>446</th>\n",
       "      <td>https://www.shl.com/products/product-catalog/v...</td>\n",
       "      <td>Workplace Safety - Individual 7.0 Solution</td>\n",
       "      <td>Our Workplace Safety - Individual 7.0 solution...</td>\n",
       "      <td>True</td>\n",
       "      <td>16.0</td>\n",
       "      <td>[Biodata &amp; Situational Judgement]</td>\n",
       "      <td>False</td>\n",
       "    </tr>\n",
       "    <tr>\n",
       "      <th>447</th>\n",
       "      <td>https://www.shl.com/products/product-catalog/v...</td>\n",
       "      <td>Teller 7.0</td>\n",
       "      <td>Teller or cashier positions are integral to fi...</td>\n",
       "      <td>True</td>\n",
       "      <td>35.0</td>\n",
       "      <td>[Biodata &amp; Situational Judgement, Knowledge &amp; ...</td>\n",
       "      <td>True</td>\n",
       "    </tr>\n",
       "    <tr>\n",
       "      <th>448</th>\n",
       "      <td>https://www.shl.com/products/product-catalog/v...</td>\n",
       "      <td>Workplace Safety - Team 7.1 (International)</td>\n",
       "      <td>The Workplace Safety – Team 7.1 solution is de...</td>\n",
       "      <td>True</td>\n",
       "      <td>20.0</td>\n",
       "      <td>[Biodata &amp; Situational Judgement, Competencies...</td>\n",
       "      <td>False</td>\n",
       "    </tr>\n",
       "    <tr>\n",
       "      <th>449</th>\n",
       "      <td>https://www.shl.com/products/product-catalog/v...</td>\n",
       "      <td>Workplace Safety - Team 7.0 Solution</td>\n",
       "      <td>The Workplace Safety – Team 7.0 solution is de...</td>\n",
       "      <td>True</td>\n",
       "      <td>20.0</td>\n",
       "      <td>[Biodata &amp; Situational Judgement]</td>\n",
       "      <td>False</td>\n",
       "    </tr>\n",
       "    <tr>\n",
       "      <th>450</th>\n",
       "      <td>https://www.shl.com/products/product-catalog/v...</td>\n",
       "      <td>Workplace Safety Solution</td>\n",
       "      <td>The Workplace Safety Solution is designed for ...</td>\n",
       "      <td>True</td>\n",
       "      <td>21.0</td>\n",
       "      <td>[Biodata &amp; Situational Judgement, Personality ...</td>\n",
       "      <td>True</td>\n",
       "    </tr>\n",
       "  </tbody>\n",
       "</table>\n",
       "<p>451 rows × 7 columns</p>\n",
       "</div>"
      ],
      "text/plain": [
       "                                                   url  \\\n",
       "0    https://www.shl.com/products/product-catalog/v...   \n",
       "1    https://www.shl.com/products/product-catalog/v...   \n",
       "2    https://www.shl.com/products/product-catalog/v...   \n",
       "3    https://www.shl.com/products/product-catalog/v...   \n",
       "4    https://www.shl.com/products/product-catalog/v...   \n",
       "..                                                 ...   \n",
       "446  https://www.shl.com/products/product-catalog/v...   \n",
       "447  https://www.shl.com/products/product-catalog/v...   \n",
       "448  https://www.shl.com/products/product-catalog/v...   \n",
       "449  https://www.shl.com/products/product-catalog/v...   \n",
       "450  https://www.shl.com/products/product-catalog/v...   \n",
       "\n",
       "                                           title  \\\n",
       "0                                 .NET MVC (New)   \n",
       "1                                .NET MVVM (New)   \n",
       "2                             .NET Framework 4.5   \n",
       "3                                 .NET WPF (New)   \n",
       "4                         Accounts Payable (New)   \n",
       "..                                           ...   \n",
       "446   Workplace Safety - Individual 7.0 Solution   \n",
       "447                                   Teller 7.0   \n",
       "448  Workplace Safety - Team 7.1 (International)   \n",
       "449         Workplace Safety - Team 7.0 Solution   \n",
       "450                    Workplace Safety Solution   \n",
       "\n",
       "                                           description  remote_support  \\\n",
       "0    Multi-choice test that measures the knowledge ...            True   \n",
       "1    Multi-choice test that measures the knowledge ...            True   \n",
       "2    The.NET Framework 4.5 test measures knowledge ...            True   \n",
       "3    Multi-choice test that measures the knowledge ...            True   \n",
       "4    Multiple-choice test that measures the knowled...            True   \n",
       "..                                                 ...             ...   \n",
       "446  Our Workplace Safety - Individual 7.0 solution...            True   \n",
       "447  Teller or cashier positions are integral to fi...            True   \n",
       "448  The Workplace Safety – Team 7.1 solution is de...            True   \n",
       "449  The Workplace Safety – Team 7.0 solution is de...            True   \n",
       "450  The Workplace Safety Solution is designed for ...            True   \n",
       "\n",
       "     duration                                         test_types  \\\n",
       "0        17.0                               [Knowledge & Skills]   \n",
       "1         5.0                               [Knowledge & Skills]   \n",
       "2        30.0                               [Knowledge & Skills]   \n",
       "3         9.0                               [Knowledge & Skills]   \n",
       "4         9.0                               [Knowledge & Skills]   \n",
       "..        ...                                                ...   \n",
       "446      16.0                  [Biodata & Situational Judgement]   \n",
       "447      35.0  [Biodata & Situational Judgement, Knowledge & ...   \n",
       "448      20.0  [Biodata & Situational Judgement, Competencies...   \n",
       "449      20.0                  [Biodata & Situational Judgement]   \n",
       "450      21.0  [Biodata & Situational Judgement, Personality ...   \n",
       "\n",
       "     adaptive_support  \n",
       "0               False  \n",
       "1               False  \n",
       "2                True  \n",
       "3               False  \n",
       "4               False  \n",
       "..                ...  \n",
       "446             False  \n",
       "447              True  \n",
       "448             False  \n",
       "449             False  \n",
       "450              True  \n",
       "\n",
       "[451 rows x 7 columns]"
      ]
     },
     "execution_count": 14,
     "metadata": {},
     "output_type": "execute_result"
    }
   ],
   "source": [
    "df_clean"
   ]
  },
  {
   "cell_type": "code",
   "execution_count": 15,
   "metadata": {
    "execution": {
     "iopub.execute_input": "2025-05-04T23:57:08.510360Z",
     "iopub.status.busy": "2025-05-04T23:57:08.510133Z",
     "iopub.status.idle": "2025-05-04T23:57:08.525557Z",
     "shell.execute_reply": "2025-05-04T23:57:08.524807Z",
     "shell.execute_reply.started": "2025-05-04T23:57:08.510339Z"
    },
    "trusted": true
   },
   "outputs": [],
   "source": [
    "df_clean.to_pickle('df_clean.pkl')"
   ]
  },
  {
   "cell_type": "markdown",
   "metadata": {},
   "source": [
    "# Training/Validation"
   ]
  },
  {
   "cell_type": "code",
   "execution_count": 16,
   "metadata": {
    "execution": {
     "iopub.execute_input": "2025-05-04T23:57:08.526799Z",
     "iopub.status.busy": "2025-05-04T23:57:08.526473Z",
     "iopub.status.idle": "2025-05-04T23:57:11.152241Z",
     "shell.execute_reply": "2025-05-04T23:57:11.151199Z",
     "shell.execute_reply.started": "2025-05-04T23:57:08.526775Z"
    },
    "trusted": true
   },
   "outputs": [
    {
     "name": "stdout",
     "output_type": "stream",
     "text": [
      "Requirement already satisfied: rank-bm25 in /usr/local/lib/python3.11/dist-packages (0.2.2)\n",
      "Requirement already satisfied: pandas in /usr/local/lib/python3.11/dist-packages (2.2.3)\n",
      "Requirement already satisfied: nltk in /usr/local/lib/python3.11/dist-packages (3.9.1)\n",
      "Requirement already satisfied: numpy in /usr/local/lib/python3.11/dist-packages (from rank-bm25) (1.26.4)\n",
      "Requirement already satisfied: python-dateutil>=2.8.2 in /usr/local/lib/python3.11/dist-packages (from pandas) (2.9.0.post0)\n",
      "Requirement already satisfied: pytz>=2020.1 in /usr/local/lib/python3.11/dist-packages (from pandas) (2025.2)\n",
      "Requirement already satisfied: tzdata>=2022.7 in /usr/local/lib/python3.11/dist-packages (from pandas) (2025.2)\n",
      "Requirement already satisfied: click in /usr/local/lib/python3.11/dist-packages (from nltk) (8.1.8)\n",
      "Requirement already satisfied: joblib in /usr/local/lib/python3.11/dist-packages (from nltk) (1.4.2)\n",
      "Requirement already satisfied: regex>=2021.8.3 in /usr/local/lib/python3.11/dist-packages (from nltk) (2024.11.6)\n",
      "Requirement already satisfied: tqdm in /usr/local/lib/python3.11/dist-packages (from nltk) (4.67.1)\n",
      "Requirement already satisfied: mkl_fft in /usr/local/lib/python3.11/dist-packages (from numpy->rank-bm25) (1.3.8)\n",
      "Requirement already satisfied: mkl_random in /usr/local/lib/python3.11/dist-packages (from numpy->rank-bm25) (1.2.4)\n",
      "Requirement already satisfied: mkl_umath in /usr/local/lib/python3.11/dist-packages (from numpy->rank-bm25) (0.1.1)\n",
      "Requirement already satisfied: mkl in /usr/local/lib/python3.11/dist-packages (from numpy->rank-bm25) (2025.1.0)\n",
      "Requirement already satisfied: tbb4py in /usr/local/lib/python3.11/dist-packages (from numpy->rank-bm25) (2022.1.0)\n",
      "Requirement already satisfied: mkl-service in /usr/local/lib/python3.11/dist-packages (from numpy->rank-bm25) (2.4.1)\n",
      "Requirement already satisfied: six>=1.5 in /usr/local/lib/python3.11/dist-packages (from python-dateutil>=2.8.2->pandas) (1.17.0)\n",
      "Requirement already satisfied: intel-openmp<2026,>=2024 in /usr/local/lib/python3.11/dist-packages (from mkl->numpy->rank-bm25) (2024.2.0)\n",
      "Requirement already satisfied: tbb==2022.* in /usr/local/lib/python3.11/dist-packages (from mkl->numpy->rank-bm25) (2022.1.0)\n",
      "Requirement already satisfied: tcmlib==1.* in /usr/local/lib/python3.11/dist-packages (from tbb==2022.*->mkl->numpy->rank-bm25) (1.2.0)\n",
      "Requirement already satisfied: intel-cmplr-lib-rt in /usr/local/lib/python3.11/dist-packages (from mkl_umath->numpy->rank-bm25) (2024.2.0)\n",
      "Requirement already satisfied: intel-cmplr-lib-ur==2024.2.0 in /usr/local/lib/python3.11/dist-packages (from intel-openmp<2026,>=2024->mkl->numpy->rank-bm25) (2024.2.0)\n"
     ]
    }
   ],
   "source": [
    "!pip install rank-bm25 pandas nltk"
   ]
  },
  {
   "cell_type": "markdown",
   "metadata": {},
   "source": [
    "## BM25 Search"
   ]
  },
  {
   "cell_type": "code",
   "execution_count": 17,
   "metadata": {
    "execution": {
     "iopub.execute_input": "2025-05-04T23:57:11.153897Z",
     "iopub.status.busy": "2025-05-04T23:57:11.153687Z",
     "iopub.status.idle": "2025-05-04T23:57:12.271534Z",
     "shell.execute_reply": "2025-05-04T23:57:12.270633Z",
     "shell.execute_reply.started": "2025-05-04T23:57:11.153877Z"
    },
    "trusted": true
   },
   "outputs": [
    {
     "name": "stderr",
     "output_type": "stream",
     "text": [
      "[nltk_data] Downloading package punkt to /usr/share/nltk_data...\n",
      "[nltk_data]   Package punkt is already up-to-date!\n",
      "[nltk_data] Downloading package stopwords to /usr/share/nltk_data...\n",
      "[nltk_data]   Package stopwords is already up-to-date!\n"
     ]
    }
   ],
   "source": [
    "import pandas as pd\n",
    "import nltk\n",
    "from nltk.corpus import stopwords\n",
    "from nltk.tokenize import word_tokenize\n",
    "from rank_bm25 import BM25Okapi\n",
    "\n",
    "nltk.download('punkt')\n",
    "nltk.download('stopwords')\n",
    "stop_words = set(stopwords.words('english'))"
   ]
  },
  {
   "cell_type": "code",
   "execution_count": 18,
   "metadata": {
    "execution": {
     "iopub.execute_input": "2025-05-04T23:57:12.272560Z",
     "iopub.status.busy": "2025-05-04T23:57:12.272216Z",
     "iopub.status.idle": "2025-05-04T23:57:12.278312Z",
     "shell.execute_reply": "2025-05-04T23:57:12.277477Z",
     "shell.execute_reply.started": "2025-05-04T23:57:12.272540Z"
    },
    "trusted": true
   },
   "outputs": [],
   "source": [
    "df = pd.read_pickle('df_clean.pkl')"
   ]
  },
  {
   "cell_type": "code",
   "execution_count": 19,
   "metadata": {
    "execution": {
     "iopub.execute_input": "2025-05-04T23:57:12.279194Z",
     "iopub.status.busy": "2025-05-04T23:57:12.278994Z",
     "iopub.status.idle": "2025-05-04T23:57:12.399484Z",
     "shell.execute_reply": "2025-05-04T23:57:12.398657Z",
     "shell.execute_reply.started": "2025-05-04T23:57:12.279176Z"
    },
    "trusted": true
   },
   "outputs": [
    {
     "data": {
      "text/html": [
       "<div>\n",
       "<style scoped>\n",
       "    .dataframe tbody tr th:only-of-type {\n",
       "        vertical-align: middle;\n",
       "    }\n",
       "\n",
       "    .dataframe tbody tr th {\n",
       "        vertical-align: top;\n",
       "    }\n",
       "\n",
       "    .dataframe thead th {\n",
       "        text-align: right;\n",
       "    }\n",
       "</style>\n",
       "<table border=\"1\" class=\"dataframe\">\n",
       "  <thead>\n",
       "    <tr style=\"text-align: right;\">\n",
       "      <th></th>\n",
       "      <th>url</th>\n",
       "      <th>title</th>\n",
       "      <th>description</th>\n",
       "      <th>remote_support</th>\n",
       "      <th>duration</th>\n",
       "      <th>test_types</th>\n",
       "      <th>adaptive_support</th>\n",
       "      <th>bm_tokens</th>\n",
       "    </tr>\n",
       "  </thead>\n",
       "  <tbody>\n",
       "    <tr>\n",
       "      <th>0</th>\n",
       "      <td>https://www.shl.com/products/product-catalog/v...</td>\n",
       "      <td>.NET MVC (New)</td>\n",
       "      <td>Multi-choice test that measures the knowledge ...</td>\n",
       "      <td>True</td>\n",
       "      <td>17.0</td>\n",
       "      <td>[Knowledge &amp; Skills]</td>\n",
       "      <td>False</td>\n",
       "      <td>[net, mvc, new, multi, choice, test, measures,...</td>\n",
       "    </tr>\n",
       "    <tr>\n",
       "      <th>1</th>\n",
       "      <td>https://www.shl.com/products/product-catalog/v...</td>\n",
       "      <td>.NET MVVM (New)</td>\n",
       "      <td>Multi-choice test that measures the knowledge ...</td>\n",
       "      <td>True</td>\n",
       "      <td>5.0</td>\n",
       "      <td>[Knowledge &amp; Skills]</td>\n",
       "      <td>False</td>\n",
       "      <td>[net, mvvm, new, multi, choice, test, measures...</td>\n",
       "    </tr>\n",
       "    <tr>\n",
       "      <th>2</th>\n",
       "      <td>https://www.shl.com/products/product-catalog/v...</td>\n",
       "      <td>.NET Framework 4.5</td>\n",
       "      <td>The.NET Framework 4.5 test measures knowledge ...</td>\n",
       "      <td>True</td>\n",
       "      <td>30.0</td>\n",
       "      <td>[Knowledge &amp; Skills]</td>\n",
       "      <td>True</td>\n",
       "      <td>[net, framework, 4, 5, net, framework, 4, 5, t...</td>\n",
       "    </tr>\n",
       "    <tr>\n",
       "      <th>3</th>\n",
       "      <td>https://www.shl.com/products/product-catalog/v...</td>\n",
       "      <td>.NET WPF (New)</td>\n",
       "      <td>Multi-choice test that measures the knowledge ...</td>\n",
       "      <td>True</td>\n",
       "      <td>9.0</td>\n",
       "      <td>[Knowledge &amp; Skills]</td>\n",
       "      <td>False</td>\n",
       "      <td>[net, wpf, new, multi, choice, test, measures,...</td>\n",
       "    </tr>\n",
       "    <tr>\n",
       "      <th>4</th>\n",
       "      <td>https://www.shl.com/products/product-catalog/v...</td>\n",
       "      <td>Accounts Payable (New)</td>\n",
       "      <td>Multiple-choice test that measures the knowled...</td>\n",
       "      <td>True</td>\n",
       "      <td>9.0</td>\n",
       "      <td>[Knowledge &amp; Skills]</td>\n",
       "      <td>False</td>\n",
       "      <td>[accounts, payable, new, multiple, choice, tes...</td>\n",
       "    </tr>\n",
       "  </tbody>\n",
       "</table>\n",
       "</div>"
      ],
      "text/plain": [
       "                                                 url                   title  \\\n",
       "0  https://www.shl.com/products/product-catalog/v...          .NET MVC (New)   \n",
       "1  https://www.shl.com/products/product-catalog/v...         .NET MVVM (New)   \n",
       "2  https://www.shl.com/products/product-catalog/v...      .NET Framework 4.5   \n",
       "3  https://www.shl.com/products/product-catalog/v...          .NET WPF (New)   \n",
       "4  https://www.shl.com/products/product-catalog/v...  Accounts Payable (New)   \n",
       "\n",
       "                                         description  remote_support  \\\n",
       "0  Multi-choice test that measures the knowledge ...            True   \n",
       "1  Multi-choice test that measures the knowledge ...            True   \n",
       "2  The.NET Framework 4.5 test measures knowledge ...            True   \n",
       "3  Multi-choice test that measures the knowledge ...            True   \n",
       "4  Multiple-choice test that measures the knowled...            True   \n",
       "\n",
       "   duration            test_types  adaptive_support  \\\n",
       "0      17.0  [Knowledge & Skills]             False   \n",
       "1       5.0  [Knowledge & Skills]             False   \n",
       "2      30.0  [Knowledge & Skills]              True   \n",
       "3       9.0  [Knowledge & Skills]             False   \n",
       "4       9.0  [Knowledge & Skills]             False   \n",
       "\n",
       "                                           bm_tokens  \n",
       "0  [net, mvc, new, multi, choice, test, measures,...  \n",
       "1  [net, mvvm, new, multi, choice, test, measures...  \n",
       "2  [net, framework, 4, 5, net, framework, 4, 5, t...  \n",
       "3  [net, wpf, new, multi, choice, test, measures,...  \n",
       "4  [accounts, payable, new, multiple, choice, tes...  "
      ]
     },
     "execution_count": 19,
     "metadata": {},
     "output_type": "execute_result"
    }
   ],
   "source": [
    "def preprocess(text):\n",
    "    text = text.lower()\n",
    "    text = re.sub(r\"[^a-z0-9\\s]\", \" \", text)\n",
    "    tokens = word_tokenize(str(text).lower())\n",
    "    return [word for word in tokens if word.isalnum() and word not in stop_words]\n",
    "\n",
    "df['bm_tokens'] = (df['title'] + ' ' + df['description']).apply(preprocess)\n",
    "df.to_pickle('df_bm25_tokenized.pkl')\n",
    "df.head(5)"
   ]
  },
  {
   "cell_type": "code",
   "execution_count": 20,
   "metadata": {
    "execution": {
     "iopub.execute_input": "2025-05-04T23:57:12.400531Z",
     "iopub.status.busy": "2025-05-04T23:57:12.400261Z",
     "iopub.status.idle": "2025-05-04T23:57:12.410511Z",
     "shell.execute_reply": "2025-05-04T23:57:12.409874Z",
     "shell.execute_reply.started": "2025-05-04T23:57:12.400509Z"
    },
    "trusted": true
   },
   "outputs": [],
   "source": [
    "bm25 = BM25Okapi(df['bm_tokens'].tolist())\n",
    "def bm25_search(query, top_n = 10):\n",
    "    query_tokens = preprocess(query)\n",
    "\n",
    "    scores = bm25.get_scores(query_tokens)\n",
    "    top_indices = sorted(range(len(scores)), key=lambda i: scores[i], reverse=True)[:top_n]\n",
    "\n",
    "    top_assessments = df.iloc[top_indices]\n",
    "    return top_assessments"
   ]
  },
  {
   "cell_type": "code",
   "execution_count": 21,
   "metadata": {
    "execution": {
     "iopub.execute_input": "2025-05-04T23:57:12.411241Z",
     "iopub.status.busy": "2025-05-04T23:57:12.411080Z",
     "iopub.status.idle": "2025-05-04T23:57:12.440375Z",
     "shell.execute_reply": "2025-05-04T23:57:12.439785Z",
     "shell.execute_reply.started": "2025-05-04T23:57:12.411228Z"
    },
    "trusted": true
   },
   "outputs": [
    {
     "data": {
      "text/html": [
       "<div>\n",
       "<style scoped>\n",
       "    .dataframe tbody tr th:only-of-type {\n",
       "        vertical-align: middle;\n",
       "    }\n",
       "\n",
       "    .dataframe tbody tr th {\n",
       "        vertical-align: top;\n",
       "    }\n",
       "\n",
       "    .dataframe thead th {\n",
       "        text-align: right;\n",
       "    }\n",
       "</style>\n",
       "<table border=\"1\" class=\"dataframe\">\n",
       "  <thead>\n",
       "    <tr style=\"text-align: right;\">\n",
       "      <th></th>\n",
       "      <th>url</th>\n",
       "      <th>title</th>\n",
       "      <th>description</th>\n",
       "      <th>remote_support</th>\n",
       "      <th>duration</th>\n",
       "      <th>test_types</th>\n",
       "      <th>adaptive_support</th>\n",
       "      <th>bm_tokens</th>\n",
       "    </tr>\n",
       "  </thead>\n",
       "  <tbody>\n",
       "    <tr>\n",
       "      <th>317</th>\n",
       "      <td>https://www.shl.com/products/product-catalog/v...</td>\n",
       "      <td>Administrative Professional - Short Form</td>\n",
       "      <td>The Administrative Professional solution is fo...</td>\n",
       "      <td>True</td>\n",
       "      <td>36.0</td>\n",
       "      <td>[Ability &amp; Aptitude, Knowledge &amp; Skills, Perso...</td>\n",
       "      <td>True</td>\n",
       "      <td>[administrative, professional, short, form, ad...</td>\n",
       "    </tr>\n",
       "    <tr>\n",
       "      <th>133</th>\n",
       "      <td>https://www.shl.com/products/product-catalog/v...</td>\n",
       "      <td>Interpersonal Communications</td>\n",
       "      <td>This adaptive test measures the candidate's kn...</td>\n",
       "      <td>True</td>\n",
       "      <td>25.0</td>\n",
       "      <td>[Knowledge &amp; Skills]</td>\n",
       "      <td>True</td>\n",
       "      <td>[interpersonal, communications, adaptive, test...</td>\n",
       "    </tr>\n",
       "    <tr>\n",
       "      <th>319</th>\n",
       "      <td>https://www.shl.com/products/product-catalog/v...</td>\n",
       "      <td>Bank Administrative Assistant - Short Form</td>\n",
       "      <td>The Administrative Assistant solution is for e...</td>\n",
       "      <td>True</td>\n",
       "      <td>35.0</td>\n",
       "      <td>[Ability &amp; Aptitude, Biodata &amp; Situational Jud...</td>\n",
       "      <td>False</td>\n",
       "      <td>[bank, administrative, assistant, short, form,...</td>\n",
       "    </tr>\n",
       "    <tr>\n",
       "      <th>375</th>\n",
       "      <td>https://www.shl.com/products/product-catalog/v...</td>\n",
       "      <td>Insurance Administrative Assistant Solution</td>\n",
       "      <td>The Administrative Assistant solution is for e...</td>\n",
       "      <td>True</td>\n",
       "      <td>24.0</td>\n",
       "      <td>[Ability &amp; Aptitude, Biodata &amp; Situational Jud...</td>\n",
       "      <td>True</td>\n",
       "      <td>[insurance, administrative, assistant, solutio...</td>\n",
       "    </tr>\n",
       "    <tr>\n",
       "      <th>49</th>\n",
       "      <td>https://www.shl.com/products/product-catalog/v...</td>\n",
       "      <td>Business Communications</td>\n",
       "      <td>This test measures the candidate's knowledge o...</td>\n",
       "      <td>True</td>\n",
       "      <td>35.0</td>\n",
       "      <td>[Knowledge &amp; Skills]</td>\n",
       "      <td>False</td>\n",
       "      <td>[business, communications, test, measures, can...</td>\n",
       "    </tr>\n",
       "    <tr>\n",
       "      <th>301</th>\n",
       "      <td>https://www.shl.com/products/product-catalog/v...</td>\n",
       "      <td>Workplace Administration Skills (New)</td>\n",
       "      <td>Multi-choice test that measures the ability to...</td>\n",
       "      <td>True</td>\n",
       "      <td>12.0</td>\n",
       "      <td>[Knowledge &amp; Skills]</td>\n",
       "      <td>False</td>\n",
       "      <td>[workplace, administration, skills, new, multi...</td>\n",
       "    </tr>\n",
       "    <tr>\n",
       "      <th>54</th>\n",
       "      <td>https://www.shl.com/products/product-catalog/v...</td>\n",
       "      <td>Business Communication (adaptive)</td>\n",
       "      <td>This is an adaptive test that measures knowled...</td>\n",
       "      <td>True</td>\n",
       "      <td>24.0</td>\n",
       "      <td>[Knowledge &amp; Skills]</td>\n",
       "      <td>True</td>\n",
       "      <td>[business, communication, adaptive, adaptive, ...</td>\n",
       "    </tr>\n",
       "    <tr>\n",
       "      <th>356</th>\n",
       "      <td>https://www.shl.com/products/product-catalog/v...</td>\n",
       "      <td>General Entry Level – Data Entry 7.0 Solution</td>\n",
       "      <td>Our General Entry Level – Data Entry 7.0 solut...</td>\n",
       "      <td>True</td>\n",
       "      <td>24.0</td>\n",
       "      <td>[Biodata &amp; Situational Judgement, Knowledge &amp; ...</td>\n",
       "      <td>False</td>\n",
       "      <td>[general, entry, level, data, entry, 7, 0, sol...</td>\n",
       "    </tr>\n",
       "    <tr>\n",
       "      <th>251</th>\n",
       "      <td>https://www.shl.com/products/product-catalog/v...</td>\n",
       "      <td>SHL Verify Interactive G+</td>\n",
       "      <td>SHL Verify Interactive G+ (SVIG+) is a test of...</td>\n",
       "      <td>True</td>\n",
       "      <td>36.0</td>\n",
       "      <td>[Ability &amp; Aptitude]</td>\n",
       "      <td>True</td>\n",
       "      <td>[shl, verify, interactive, g, shl, verify, int...</td>\n",
       "    </tr>\n",
       "    <tr>\n",
       "      <th>70</th>\n",
       "      <td>https://www.shl.com/products/product-catalog/v...</td>\n",
       "      <td>Customer Service Phone Solution</td>\n",
       "      <td>As part of Contact Center Simulations, the Cus...</td>\n",
       "      <td>True</td>\n",
       "      <td>30.0</td>\n",
       "      <td>[Biodata &amp; Situational Judgement, Personality ...</td>\n",
       "      <td>False</td>\n",
       "      <td>[customer, service, phone, solution, part, con...</td>\n",
       "    </tr>\n",
       "  </tbody>\n",
       "</table>\n",
       "</div>"
      ],
      "text/plain": [
       "                                                   url  \\\n",
       "317  https://www.shl.com/products/product-catalog/v...   \n",
       "133  https://www.shl.com/products/product-catalog/v...   \n",
       "319  https://www.shl.com/products/product-catalog/v...   \n",
       "375  https://www.shl.com/products/product-catalog/v...   \n",
       "49   https://www.shl.com/products/product-catalog/v...   \n",
       "301  https://www.shl.com/products/product-catalog/v...   \n",
       "54   https://www.shl.com/products/product-catalog/v...   \n",
       "356  https://www.shl.com/products/product-catalog/v...   \n",
       "251  https://www.shl.com/products/product-catalog/v...   \n",
       "70   https://www.shl.com/products/product-catalog/v...   \n",
       "\n",
       "                                             title  \\\n",
       "317       Administrative Professional - Short Form   \n",
       "133                   Interpersonal Communications   \n",
       "319     Bank Administrative Assistant - Short Form   \n",
       "375    Insurance Administrative Assistant Solution   \n",
       "49                         Business Communications   \n",
       "301          Workplace Administration Skills (New)   \n",
       "54               Business Communication (adaptive)   \n",
       "356  General Entry Level – Data Entry 7.0 Solution   \n",
       "251                      SHL Verify Interactive G+   \n",
       "70                 Customer Service Phone Solution   \n",
       "\n",
       "                                           description  remote_support  \\\n",
       "317  The Administrative Professional solution is fo...            True   \n",
       "133  This adaptive test measures the candidate's kn...            True   \n",
       "319  The Administrative Assistant solution is for e...            True   \n",
       "375  The Administrative Assistant solution is for e...            True   \n",
       "49   This test measures the candidate's knowledge o...            True   \n",
       "301  Multi-choice test that measures the ability to...            True   \n",
       "54   This is an adaptive test that measures knowled...            True   \n",
       "356  Our General Entry Level – Data Entry 7.0 solut...            True   \n",
       "251  SHL Verify Interactive G+ (SVIG+) is a test of...            True   \n",
       "70   As part of Contact Center Simulations, the Cus...            True   \n",
       "\n",
       "     duration                                         test_types  \\\n",
       "317      36.0  [Ability & Aptitude, Knowledge & Skills, Perso...   \n",
       "133      25.0                               [Knowledge & Skills]   \n",
       "319      35.0  [Ability & Aptitude, Biodata & Situational Jud...   \n",
       "375      24.0  [Ability & Aptitude, Biodata & Situational Jud...   \n",
       "49       35.0                               [Knowledge & Skills]   \n",
       "301      12.0                               [Knowledge & Skills]   \n",
       "54       24.0                               [Knowledge & Skills]   \n",
       "356      24.0  [Biodata & Situational Judgement, Knowledge & ...   \n",
       "251      36.0                               [Ability & Aptitude]   \n",
       "70       30.0  [Biodata & Situational Judgement, Personality ...   \n",
       "\n",
       "     adaptive_support                                          bm_tokens  \n",
       "317              True  [administrative, professional, short, form, ad...  \n",
       "133              True  [interpersonal, communications, adaptive, test...  \n",
       "319             False  [bank, administrative, assistant, short, form,...  \n",
       "375              True  [insurance, administrative, assistant, solutio...  \n",
       "49              False  [business, communications, test, measures, can...  \n",
       "301             False  [workplace, administration, skills, new, multi...  \n",
       "54               True  [business, communication, adaptive, adaptive, ...  \n",
       "356             False  [general, entry, level, data, entry, 7, 0, sol...  \n",
       "251              True  [shl, verify, interactive, g, shl, verify, int...  \n",
       "70              False  [customer, service, phone, solution, part, con...  "
      ]
     },
     "execution_count": 21,
     "metadata": {},
     "output_type": "execute_result"
    }
   ],
   "source": [
    "bm25_search(\"Administrative assistant job.  Entry-level role requiring 0-2 years of experience.  Assess candidate's administrative skills, problem-solving abilities, attention to detail, communication skills, teamwork, and organizational skills. Evaluate personality traits relevant to administrative work such as responsibility, dependability, and professionalism.  Situational judgement questions related to administrative tasks.  Questions on basic office software and procedures.  Candidate should demonstrate effective communication (written and verbal).\")"
   ]
  },
  {
   "cell_type": "markdown",
   "metadata": {},
   "source": [
    "## SBERT + FAISS"
   ]
  },
  {
   "cell_type": "code",
   "execution_count": 22,
   "metadata": {
    "execution": {
     "iopub.execute_input": "2025-05-04T23:57:12.441313Z",
     "iopub.status.busy": "2025-05-04T23:57:12.441065Z",
     "iopub.status.idle": "2025-05-04T23:57:15.210485Z",
     "shell.execute_reply": "2025-05-04T23:57:15.209213Z",
     "shell.execute_reply.started": "2025-05-04T23:57:12.441292Z"
    },
    "trusted": true
   },
   "outputs": [
    {
     "name": "stdout",
     "output_type": "stream",
     "text": [
      "Requirement already satisfied: faiss-cpu in /usr/local/lib/python3.11/dist-packages (1.11.0)\n",
      "Requirement already satisfied: sentence-transformers in /usr/local/lib/python3.11/dist-packages (3.4.1)\n",
      "Requirement already satisfied: numpy<3.0,>=1.25.0 in /usr/local/lib/python3.11/dist-packages (from faiss-cpu) (1.26.4)\n",
      "Requirement already satisfied: packaging in /usr/local/lib/python3.11/dist-packages (from faiss-cpu) (24.2)\n",
      "Requirement already satisfied: transformers<5.0.0,>=4.41.0 in /usr/local/lib/python3.11/dist-packages (from sentence-transformers) (4.51.1)\n",
      "Requirement already satisfied: tqdm in /usr/local/lib/python3.11/dist-packages (from sentence-transformers) (4.67.1)\n",
      "Requirement already satisfied: torch>=1.11.0 in /usr/local/lib/python3.11/dist-packages (from sentence-transformers) (2.5.1+cu124)\n",
      "Requirement already satisfied: scikit-learn in /usr/local/lib/python3.11/dist-packages (from sentence-transformers) (1.2.2)\n",
      "Requirement already satisfied: scipy in /usr/local/lib/python3.11/dist-packages (from sentence-transformers) (1.15.2)\n",
      "Requirement already satisfied: huggingface-hub>=0.20.0 in /usr/local/lib/python3.11/dist-packages (from sentence-transformers) (0.30.2)\n",
      "Requirement already satisfied: Pillow in /usr/local/lib/python3.11/dist-packages (from sentence-transformers) (11.1.0)\n",
      "Requirement already satisfied: filelock in /usr/local/lib/python3.11/dist-packages (from huggingface-hub>=0.20.0->sentence-transformers) (3.18.0)\n",
      "Requirement already satisfied: fsspec>=2023.5.0 in /usr/local/lib/python3.11/dist-packages (from huggingface-hub>=0.20.0->sentence-transformers) (2025.3.2)\n",
      "Requirement already satisfied: pyyaml>=5.1 in /usr/local/lib/python3.11/dist-packages (from huggingface-hub>=0.20.0->sentence-transformers) (6.0.2)\n",
      "Requirement already satisfied: requests in /usr/local/lib/python3.11/dist-packages (from huggingface-hub>=0.20.0->sentence-transformers) (2.32.3)\n",
      "Requirement already satisfied: typing-extensions>=3.7.4.3 in /usr/local/lib/python3.11/dist-packages (from huggingface-hub>=0.20.0->sentence-transformers) (4.13.1)\n",
      "Requirement already satisfied: mkl_fft in /usr/local/lib/python3.11/dist-packages (from numpy<3.0,>=1.25.0->faiss-cpu) (1.3.8)\n",
      "Requirement already satisfied: mkl_random in /usr/local/lib/python3.11/dist-packages (from numpy<3.0,>=1.25.0->faiss-cpu) (1.2.4)\n",
      "Requirement already satisfied: mkl_umath in /usr/local/lib/python3.11/dist-packages (from numpy<3.0,>=1.25.0->faiss-cpu) (0.1.1)\n",
      "Requirement already satisfied: mkl in /usr/local/lib/python3.11/dist-packages (from numpy<3.0,>=1.25.0->faiss-cpu) (2025.1.0)\n",
      "Requirement already satisfied: tbb4py in /usr/local/lib/python3.11/dist-packages (from numpy<3.0,>=1.25.0->faiss-cpu) (2022.1.0)\n",
      "Requirement already satisfied: mkl-service in /usr/local/lib/python3.11/dist-packages (from numpy<3.0,>=1.25.0->faiss-cpu) (2.4.1)\n",
      "Requirement already satisfied: networkx in /usr/local/lib/python3.11/dist-packages (from torch>=1.11.0->sentence-transformers) (3.4.2)\n",
      "Requirement already satisfied: jinja2 in /usr/local/lib/python3.11/dist-packages (from torch>=1.11.0->sentence-transformers) (3.1.6)\n",
      "Requirement already satisfied: nvidia-cuda-nvrtc-cu12==12.4.127 in /usr/local/lib/python3.11/dist-packages (from torch>=1.11.0->sentence-transformers) (12.4.127)\n",
      "Requirement already satisfied: nvidia-cuda-runtime-cu12==12.4.127 in /usr/local/lib/python3.11/dist-packages (from torch>=1.11.0->sentence-transformers) (12.4.127)\n",
      "Requirement already satisfied: nvidia-cuda-cupti-cu12==12.4.127 in /usr/local/lib/python3.11/dist-packages (from torch>=1.11.0->sentence-transformers) (12.4.127)\n",
      "Requirement already satisfied: nvidia-cudnn-cu12==9.1.0.70 in /usr/local/lib/python3.11/dist-packages (from torch>=1.11.0->sentence-transformers) (9.1.0.70)\n",
      "Requirement already satisfied: nvidia-cublas-cu12==12.4.5.8 in /usr/local/lib/python3.11/dist-packages (from torch>=1.11.0->sentence-transformers) (12.4.5.8)\n",
      "Requirement already satisfied: nvidia-cufft-cu12==11.2.1.3 in /usr/local/lib/python3.11/dist-packages (from torch>=1.11.0->sentence-transformers) (11.2.1.3)\n",
      "Requirement already satisfied: nvidia-curand-cu12==10.3.5.147 in /usr/local/lib/python3.11/dist-packages (from torch>=1.11.0->sentence-transformers) (10.3.5.147)\n",
      "Requirement already satisfied: nvidia-cusolver-cu12==11.6.1.9 in /usr/local/lib/python3.11/dist-packages (from torch>=1.11.0->sentence-transformers) (11.6.1.9)\n",
      "Requirement already satisfied: nvidia-cusparse-cu12==12.3.1.170 in /usr/local/lib/python3.11/dist-packages (from torch>=1.11.0->sentence-transformers) (12.3.1.170)\n",
      "Requirement already satisfied: nvidia-nccl-cu12==2.21.5 in /usr/local/lib/python3.11/dist-packages (from torch>=1.11.0->sentence-transformers) (2.21.5)\n",
      "Requirement already satisfied: nvidia-nvtx-cu12==12.4.127 in /usr/local/lib/python3.11/dist-packages (from torch>=1.11.0->sentence-transformers) (12.4.127)\n",
      "Requirement already satisfied: nvidia-nvjitlink-cu12==12.4.127 in /usr/local/lib/python3.11/dist-packages (from torch>=1.11.0->sentence-transformers) (12.4.127)\n",
      "Requirement already satisfied: triton==3.1.0 in /usr/local/lib/python3.11/dist-packages (from torch>=1.11.0->sentence-transformers) (3.1.0)\n",
      "Requirement already satisfied: sympy==1.13.1 in /usr/local/lib/python3.11/dist-packages (from torch>=1.11.0->sentence-transformers) (1.13.1)\n",
      "Requirement already satisfied: mpmath<1.4,>=1.1.0 in /usr/local/lib/python3.11/dist-packages (from sympy==1.13.1->torch>=1.11.0->sentence-transformers) (1.3.0)\n",
      "Requirement already satisfied: regex!=2019.12.17 in /usr/local/lib/python3.11/dist-packages (from transformers<5.0.0,>=4.41.0->sentence-transformers) (2024.11.6)\n",
      "Requirement already satisfied: tokenizers<0.22,>=0.21 in /usr/local/lib/python3.11/dist-packages (from transformers<5.0.0,>=4.41.0->sentence-transformers) (0.21.0)\n",
      "Requirement already satisfied: safetensors>=0.4.3 in /usr/local/lib/python3.11/dist-packages (from transformers<5.0.0,>=4.41.0->sentence-transformers) (0.5.2)\n",
      "Requirement already satisfied: joblib>=1.1.1 in /usr/local/lib/python3.11/dist-packages (from scikit-learn->sentence-transformers) (1.4.2)\n",
      "Requirement already satisfied: threadpoolctl>=2.0.0 in /usr/local/lib/python3.11/dist-packages (from scikit-learn->sentence-transformers) (3.6.0)\n",
      "Requirement already satisfied: MarkupSafe>=2.0 in /usr/local/lib/python3.11/dist-packages (from jinja2->torch>=1.11.0->sentence-transformers) (3.0.2)\n",
      "Requirement already satisfied: intel-openmp<2026,>=2024 in /usr/local/lib/python3.11/dist-packages (from mkl->numpy<3.0,>=1.25.0->faiss-cpu) (2024.2.0)\n",
      "Requirement already satisfied: tbb==2022.* in /usr/local/lib/python3.11/dist-packages (from mkl->numpy<3.0,>=1.25.0->faiss-cpu) (2022.1.0)\n",
      "Requirement already satisfied: tcmlib==1.* in /usr/local/lib/python3.11/dist-packages (from tbb==2022.*->mkl->numpy<3.0,>=1.25.0->faiss-cpu) (1.2.0)\n",
      "Requirement already satisfied: intel-cmplr-lib-rt in /usr/local/lib/python3.11/dist-packages (from mkl_umath->numpy<3.0,>=1.25.0->faiss-cpu) (2024.2.0)\n",
      "Requirement already satisfied: charset-normalizer<4,>=2 in /usr/local/lib/python3.11/dist-packages (from requests->huggingface-hub>=0.20.0->sentence-transformers) (3.4.1)\n",
      "Requirement already satisfied: idna<4,>=2.5 in /usr/local/lib/python3.11/dist-packages (from requests->huggingface-hub>=0.20.0->sentence-transformers) (3.10)\n",
      "Requirement already satisfied: urllib3<3,>=1.21.1 in /usr/local/lib/python3.11/dist-packages (from requests->huggingface-hub>=0.20.0->sentence-transformers) (2.3.0)\n",
      "Requirement already satisfied: certifi>=2017.4.17 in /usr/local/lib/python3.11/dist-packages (from requests->huggingface-hub>=0.20.0->sentence-transformers) (2025.1.31)\n",
      "Requirement already satisfied: intel-cmplr-lib-ur==2024.2.0 in /usr/local/lib/python3.11/dist-packages (from intel-openmp<2026,>=2024->mkl->numpy<3.0,>=1.25.0->faiss-cpu) (2024.2.0)\n"
     ]
    }
   ],
   "source": [
    "!pip install faiss-cpu sentence-transformers"
   ]
  },
  {
   "cell_type": "code",
   "execution_count": 23,
   "metadata": {
    "execution": {
     "iopub.execute_input": "2025-05-04T23:57:15.211731Z",
     "iopub.status.busy": "2025-05-04T23:57:15.211485Z",
     "iopub.status.idle": "2025-05-04T23:57:27.271244Z",
     "shell.execute_reply": "2025-05-04T23:57:27.270513Z",
     "shell.execute_reply.started": "2025-05-04T23:57:15.211708Z"
    },
    "trusted": true
   },
   "outputs": [
    {
     "name": "stderr",
     "output_type": "stream",
     "text": [
      "2025-05-04 23:57:22.117720: E external/local_xla/xla/stream_executor/cuda/cuda_fft.cc:477] Unable to register cuFFT factory: Attempting to register factory for plugin cuFFT when one has already been registered\n",
      "WARNING: All log messages before absl::InitializeLog() is called are written to STDERR\n",
      "E0000 00:00:1746403042.155653     121 cuda_dnn.cc:8310] Unable to register cuDNN factory: Attempting to register factory for plugin cuDNN when one has already been registered\n",
      "E0000 00:00:1746403042.166015     121 cuda_blas.cc:1418] Unable to register cuBLAS factory: Attempting to register factory for plugin cuBLAS when one has already been registered\n"
     ]
    }
   ],
   "source": [
    "import pandas as pd\n",
    "import numpy as np\n",
    "import faiss\n",
    "from sentence_transformers import SentenceTransformer"
   ]
  },
  {
   "cell_type": "code",
   "execution_count": 24,
   "metadata": {
    "execution": {
     "iopub.execute_input": "2025-05-04T23:57:27.272461Z",
     "iopub.status.busy": "2025-05-04T23:57:27.271960Z",
     "iopub.status.idle": "2025-05-04T23:57:27.278043Z",
     "shell.execute_reply": "2025-05-04T23:57:27.277375Z",
     "shell.execute_reply.started": "2025-05-04T23:57:27.272444Z"
    },
    "trusted": true
   },
   "outputs": [],
   "source": [
    "df = pd.read_pickle('df_clean.pkl')"
   ]
  },
  {
   "cell_type": "code",
   "execution_count": 25,
   "metadata": {
    "execution": {
     "iopub.execute_input": "2025-05-04T23:57:27.278928Z",
     "iopub.status.busy": "2025-05-04T23:57:27.278702Z",
     "iopub.status.idle": "2025-05-04T23:58:25.090933Z",
     "shell.execute_reply": "2025-05-04T23:58:25.090233Z",
     "shell.execute_reply.started": "2025-05-04T23:57:27.278908Z"
    },
    "trusted": true
   },
   "outputs": [
    {
     "data": {
      "application/vnd.jupyter.widget-view+json": {
       "model_id": "f2ec412d770e423eb6550d0886d679f1",
       "version_major": 2,
       "version_minor": 0
      },
      "text/plain": [
       "Batches:   0%|          | 0/15 [00:00<?, ?it/s]"
      ]
     },
     "metadata": {},
     "output_type": "display_data"
    }
   ],
   "source": [
    "descriptions = (df['title'] + ' ' + df['description']).tolist()\n",
    "\n",
    "model = SentenceTransformer('all-mpnet-base-v2')\n",
    "embeddings = model.encode(descriptions, show_progress_bar=True)\n",
    "\n",
    "dimension = embeddings.shape[1]\n",
    "faiss.normalize_L2(embeddings)\n",
    "faiss_index = faiss.IndexFlatIP(dimension)\n",
    "faiss_index.add(np.array(embeddings).astype('float32'))"
   ]
  },
  {
   "cell_type": "code",
   "execution_count": 26,
   "metadata": {
    "execution": {
     "iopub.execute_input": "2025-05-04T23:58:25.092494Z",
     "iopub.status.busy": "2025-05-04T23:58:25.092203Z",
     "iopub.status.idle": "2025-05-04T23:58:25.103169Z",
     "shell.execute_reply": "2025-05-04T23:58:25.102343Z",
     "shell.execute_reply.started": "2025-05-04T23:58:25.092473Z"
    },
    "trusted": true
   },
   "outputs": [],
   "source": [
    "np.save('sbert_embeddings.npy', embeddings)\n",
    "faiss.write_index(faiss_index, 'faiss_index.bin')"
   ]
  },
  {
   "cell_type": "code",
   "execution_count": 27,
   "metadata": {
    "execution": {
     "iopub.execute_input": "2025-05-04T23:58:25.104249Z",
     "iopub.status.busy": "2025-05-04T23:58:25.103997Z",
     "iopub.status.idle": "2025-05-04T23:58:26.317810Z",
     "shell.execute_reply": "2025-05-04T23:58:26.317144Z",
     "shell.execute_reply.started": "2025-05-04T23:58:25.104233Z"
    },
    "trusted": true
   },
   "outputs": [],
   "source": [
    "model = SentenceTransformer('all-mpnet-base-v2')\n",
    "def semantic_search(query, top_k=10):\n",
    "    query_embedding = model.encode([query])\n",
    "    distances, indices = faiss_index.search(np.array(query_embedding).astype('float32'), top_k)\n",
    "    return df.iloc[indices[0]]"
   ]
  },
  {
   "cell_type": "code",
   "execution_count": 28,
   "metadata": {
    "execution": {
     "iopub.execute_input": "2025-05-04T23:58:26.321065Z",
     "iopub.status.busy": "2025-05-04T23:58:26.320848Z",
     "iopub.status.idle": "2025-05-04T23:58:26.516370Z",
     "shell.execute_reply": "2025-05-04T23:58:26.515671Z",
     "shell.execute_reply.started": "2025-05-04T23:58:26.321049Z"
    },
    "trusted": true
   },
   "outputs": [
    {
     "data": {
      "application/vnd.jupyter.widget-view+json": {
       "model_id": "756f6414e7814a13a52427986bc3a0b4",
       "version_major": 2,
       "version_minor": 0
      },
      "text/plain": [
       "Batches:   0%|          | 0/1 [00:00<?, ?it/s]"
      ]
     },
     "metadata": {},
     "output_type": "display_data"
    },
    {
     "data": {
      "text/html": [
       "<div>\n",
       "<style scoped>\n",
       "    .dataframe tbody tr th:only-of-type {\n",
       "        vertical-align: middle;\n",
       "    }\n",
       "\n",
       "    .dataframe tbody tr th {\n",
       "        vertical-align: top;\n",
       "    }\n",
       "\n",
       "    .dataframe thead th {\n",
       "        text-align: right;\n",
       "    }\n",
       "</style>\n",
       "<table border=\"1\" class=\"dataframe\">\n",
       "  <thead>\n",
       "    <tr style=\"text-align: right;\">\n",
       "      <th></th>\n",
       "      <th>url</th>\n",
       "      <th>title</th>\n",
       "      <th>description</th>\n",
       "      <th>remote_support</th>\n",
       "      <th>duration</th>\n",
       "      <th>test_types</th>\n",
       "      <th>adaptive_support</th>\n",
       "    </tr>\n",
       "  </thead>\n",
       "  <tbody>\n",
       "    <tr>\n",
       "      <th>317</th>\n",
       "      <td>https://www.shl.com/products/product-catalog/v...</td>\n",
       "      <td>Administrative Professional - Short Form</td>\n",
       "      <td>The Administrative Professional solution is fo...</td>\n",
       "      <td>True</td>\n",
       "      <td>36.0</td>\n",
       "      <td>[Ability &amp; Aptitude, Knowledge &amp; Skills, Perso...</td>\n",
       "      <td>True</td>\n",
       "    </tr>\n",
       "    <tr>\n",
       "      <th>375</th>\n",
       "      <td>https://www.shl.com/products/product-catalog/v...</td>\n",
       "      <td>Insurance Administrative Assistant Solution</td>\n",
       "      <td>The Administrative Assistant solution is for e...</td>\n",
       "      <td>True</td>\n",
       "      <td>24.0</td>\n",
       "      <td>[Ability &amp; Aptitude, Biodata &amp; Situational Jud...</td>\n",
       "      <td>True</td>\n",
       "    </tr>\n",
       "    <tr>\n",
       "      <th>319</th>\n",
       "      <td>https://www.shl.com/products/product-catalog/v...</td>\n",
       "      <td>Bank Administrative Assistant - Short Form</td>\n",
       "      <td>The Administrative Assistant solution is for e...</td>\n",
       "      <td>True</td>\n",
       "      <td>35.0</td>\n",
       "      <td>[Ability &amp; Aptitude, Biodata &amp; Situational Jud...</td>\n",
       "      <td>False</td>\n",
       "    </tr>\n",
       "    <tr>\n",
       "      <th>301</th>\n",
       "      <td>https://www.shl.com/products/product-catalog/v...</td>\n",
       "      <td>Workplace Administration Skills (New)</td>\n",
       "      <td>Multi-choice test that measures the ability to...</td>\n",
       "      <td>True</td>\n",
       "      <td>12.0</td>\n",
       "      <td>[Knowledge &amp; Skills]</td>\n",
       "      <td>False</td>\n",
       "    </tr>\n",
       "    <tr>\n",
       "      <th>368</th>\n",
       "      <td>https://www.shl.com/products/product-catalog/v...</td>\n",
       "      <td>Healthcare Aide 7.0 Solution</td>\n",
       "      <td>Our Healthcare Aide 7.0 solution is designed f...</td>\n",
       "      <td>True</td>\n",
       "      <td>22.0</td>\n",
       "      <td>[Biodata &amp; Situational Judgement]</td>\n",
       "      <td>False</td>\n",
       "    </tr>\n",
       "    <tr>\n",
       "      <th>423</th>\n",
       "      <td>https://www.shl.com/products/product-catalog/v...</td>\n",
       "      <td>Service Associate Solution</td>\n",
       "      <td>The Service Associate is designed for entry-le...</td>\n",
       "      <td>True</td>\n",
       "      <td>38.0</td>\n",
       "      <td>[Ability &amp; Aptitude, Biodata &amp; Situational Jud...</td>\n",
       "      <td>True</td>\n",
       "    </tr>\n",
       "    <tr>\n",
       "      <th>352</th>\n",
       "      <td>https://www.shl.com/products/product-catalog/v...</td>\n",
       "      <td>General Entry Level - All Industries 7.0 Solution</td>\n",
       "      <td>Our General Entry Level – All Industries 7.0 s...</td>\n",
       "      <td>True</td>\n",
       "      <td>19.0</td>\n",
       "      <td>[Biodata &amp; Situational Judgement]</td>\n",
       "      <td>False</td>\n",
       "    </tr>\n",
       "    <tr>\n",
       "      <th>353</th>\n",
       "      <td>https://www.shl.com/products/product-catalog/v...</td>\n",
       "      <td>General Entry Level - All Industries 7.1(Ameri...</td>\n",
       "      <td>Our General Entry Level – All Industries 7.1 s...</td>\n",
       "      <td>True</td>\n",
       "      <td>19.0</td>\n",
       "      <td>[Biodata &amp; Situational Judgement]</td>\n",
       "      <td>False</td>\n",
       "    </tr>\n",
       "    <tr>\n",
       "      <th>380</th>\n",
       "      <td>https://www.shl.com/products/product-catalog/v...</td>\n",
       "      <td>Manager + 7.0 Solution</td>\n",
       "      <td>Our Manager + 7.0 solution is designed for can...</td>\n",
       "      <td>True</td>\n",
       "      <td>53.0</td>\n",
       "      <td>[Ability &amp; Aptitude, Biodata &amp; Situational Jud...</td>\n",
       "      <td>True</td>\n",
       "    </tr>\n",
       "    <tr>\n",
       "      <th>394</th>\n",
       "      <td>https://www.shl.com/products/product-catalog/v...</td>\n",
       "      <td>Nursing Assistant Solution</td>\n",
       "      <td>The Nursing Assistant solution is for entry-le...</td>\n",
       "      <td>True</td>\n",
       "      <td>41.0</td>\n",
       "      <td>[Ability &amp; Aptitude, Biodata &amp; Situational Jud...</td>\n",
       "      <td>False</td>\n",
       "    </tr>\n",
       "  </tbody>\n",
       "</table>\n",
       "</div>"
      ],
      "text/plain": [
       "                                                   url  \\\n",
       "317  https://www.shl.com/products/product-catalog/v...   \n",
       "375  https://www.shl.com/products/product-catalog/v...   \n",
       "319  https://www.shl.com/products/product-catalog/v...   \n",
       "301  https://www.shl.com/products/product-catalog/v...   \n",
       "368  https://www.shl.com/products/product-catalog/v...   \n",
       "423  https://www.shl.com/products/product-catalog/v...   \n",
       "352  https://www.shl.com/products/product-catalog/v...   \n",
       "353  https://www.shl.com/products/product-catalog/v...   \n",
       "380  https://www.shl.com/products/product-catalog/v...   \n",
       "394  https://www.shl.com/products/product-catalog/v...   \n",
       "\n",
       "                                                 title  \\\n",
       "317           Administrative Professional - Short Form   \n",
       "375        Insurance Administrative Assistant Solution   \n",
       "319         Bank Administrative Assistant - Short Form   \n",
       "301              Workplace Administration Skills (New)   \n",
       "368                       Healthcare Aide 7.0 Solution   \n",
       "423                         Service Associate Solution   \n",
       "352  General Entry Level - All Industries 7.0 Solution   \n",
       "353  General Entry Level - All Industries 7.1(Ameri...   \n",
       "380                             Manager + 7.0 Solution   \n",
       "394                         Nursing Assistant Solution   \n",
       "\n",
       "                                           description  remote_support  \\\n",
       "317  The Administrative Professional solution is fo...            True   \n",
       "375  The Administrative Assistant solution is for e...            True   \n",
       "319  The Administrative Assistant solution is for e...            True   \n",
       "301  Multi-choice test that measures the ability to...            True   \n",
       "368  Our Healthcare Aide 7.0 solution is designed f...            True   \n",
       "423  The Service Associate is designed for entry-le...            True   \n",
       "352  Our General Entry Level – All Industries 7.0 s...            True   \n",
       "353  Our General Entry Level – All Industries 7.1 s...            True   \n",
       "380  Our Manager + 7.0 solution is designed for can...            True   \n",
       "394  The Nursing Assistant solution is for entry-le...            True   \n",
       "\n",
       "     duration                                         test_types  \\\n",
       "317      36.0  [Ability & Aptitude, Knowledge & Skills, Perso...   \n",
       "375      24.0  [Ability & Aptitude, Biodata & Situational Jud...   \n",
       "319      35.0  [Ability & Aptitude, Biodata & Situational Jud...   \n",
       "301      12.0                               [Knowledge & Skills]   \n",
       "368      22.0                  [Biodata & Situational Judgement]   \n",
       "423      38.0  [Ability & Aptitude, Biodata & Situational Jud...   \n",
       "352      19.0                  [Biodata & Situational Judgement]   \n",
       "353      19.0                  [Biodata & Situational Judgement]   \n",
       "380      53.0  [Ability & Aptitude, Biodata & Situational Jud...   \n",
       "394      41.0  [Ability & Aptitude, Biodata & Situational Jud...   \n",
       "\n",
       "     adaptive_support  \n",
       "317              True  \n",
       "375              True  \n",
       "319             False  \n",
       "301             False  \n",
       "368             False  \n",
       "423              True  \n",
       "352             False  \n",
       "353             False  \n",
       "380              True  \n",
       "394             False  "
      ]
     },
     "execution_count": 28,
     "metadata": {},
     "output_type": "execute_result"
    }
   ],
   "source": [
    "semantic_search(\"Administrative assistant job.  Entry-level role requiring 0-2 years of experience.  Assess candidate's administrative skills, problem-solving abilities, attention to detail, communication skills, teamwork, and organizational skills. Evaluate personality traits relevant to administrative work such as responsibility, dependability, and professionalism.  Situational judgement questions related to administrative tasks.  Questions on basic office software and procedures.  Candidate should demonstrate effective communication (written and verbal).\")"
   ]
  },
  {
   "cell_type": "markdown",
   "metadata": {},
   "source": [
    "## Gemini API Call"
   ]
  },
  {
   "cell_type": "code",
   "execution_count": null,
   "metadata": {
    "execution": {
     "iopub.execute_input": "2025-05-04T23:58:26.517349Z",
     "iopub.status.busy": "2025-05-04T23:58:26.517070Z",
     "iopub.status.idle": "2025-05-04T23:58:28.934961Z",
     "shell.execute_reply": "2025-05-04T23:58:28.934209Z",
     "shell.execute_reply.started": "2025-05-04T23:58:26.517308Z"
    },
    "trusted": true
   },
   "outputs": [
    {
     "name": "stdout",
     "output_type": "stream",
     "text": [
      "Parsed JSON:\n",
      " {\n",
      "  \"duration\": 35,\n",
      "  \"type\": \"non-technical\",\n",
      "  \"test_types\": [\n",
      "    \"Biodata & Situational Judgement\",\n",
      "    \"Competencies\",\n",
      "    \"Knowledge & Skills\",\n",
      "    \"Personality & Behavior\"\n",
      "  ],\n",
      "  \"query\": \"Administrative assistant role requiring 0-2 years of experience.  Assess candidate's administrative skills, organizational abilities, attention to detail, problem-solving skills, communication skills (written and verbal), teamwork abilities, and ability to work under pressure.  Evaluate personality traits such as dependability, responsibility, and adaptability.  Situational judgment questions assessing handling of administrative tasks and customer interactions.  The assessment should be approximately 35 minutes long and suitable for entry-level administrative positions within a banking environment.  Keywords: administrative assistant, bank, entry level, organizational skills, communication, problem-solving, teamwork,  dependability, responsibility, adaptability, situational judgment.\"\n",
      "}\n"
     ]
    }
   ],
   "source": [
    "import google.generativeai as genai\n",
    "import json\n",
    "\n",
    "\n",
    "genai.configure(api_key=\"API_KEY\")\n",
    "genmodel = genai.GenerativeModel(\"gemini-1.5-flash\")\n",
    "\n",
    "PROMPT_TEMPLATE = \"\"\"\n",
    "For the following job description, extract a structured query suitable for retrieving relevant candidate assessments. The output should be optimized for semantic and lexical similarity matching in retrieval systems.\n",
    "\n",
    "Include:\n",
    "All relevant job duties and selection criteria.\n",
    "Seniority level (e.g., entry level, mid, senior).\n",
    "Whether it's technical or non-technical based on job responsibilities.\n",
    "Test duration in minutes (a single integer) if stated; otherwise, set to -1.\n",
    "Most relevant assessment categories from the following list:\n",
    "  ['Ability & Aptitude', 'Biodata & Situational Judgement', 'Competencies', 'Development & 360', 'Assessment Exercises', 'Knowledge & Skills', 'Personality & Behavior', 'Simulations'].\n",
    "\n",
    "Format: Return only a valid JSON object:\n",
    "{{\n",
    "  \"duration\": 0,\n",
    "  \"type\": \"technical\" or \"non-technical\",\n",
    "  \"test_types\": [],\n",
    "  \"query\": \"...\"  // Detailed and precise query in natural language suitable for semantic (SBERT) retrieval and with keyword for lexical (BM25)\n",
    "}}\n",
    "\n",
    "Only return the JSON. No explanation or extra text.\n",
    "\n",
    "QUERY:\n",
    "{query}\n",
    "\"\"\"\n",
    "\n",
    "def generate_and_parse_query(job_text):\n",
    "    prompt = PROMPT_TEMPLATE.format(query=job_text)\n",
    "    \n",
    "    try:\n",
    "        response = genmodel.generate_content(prompt)\n",
    "        content = response.text.strip()\n",
    "        cleaned = re.sub(r\"```json|```\", \"\", content).strip()\n",
    "        \n",
    "        parsed_json = json.loads(cleaned)\n",
    "        return parsed_json\n",
    "\n",
    "    except json.JSONDecodeError:\n",
    "        print(\"Failed to parse JSON. Response was:\\n\", content)\n",
    "        return None\n",
    "    except Exception as e:\n",
    "        print(f\"Error during generation: {e}\")\n",
    "        return None\n",
    "\n",
    "job_description = \"\"\"ICICI Bank Assistant Admin,\n",
    "Experience required 0-2 years, test\n",
    "should be 30-40 mins long\n",
    "\"\"\"\n",
    "result = generate_and_parse_query(job_description)\n",
    "\n",
    "if result:\n",
    "    print(\"Parsed JSON:\\n\", json.dumps(result, indent=2))\n"
   ]
  },
  {
   "cell_type": "markdown",
   "metadata": {},
   "source": [
    "## Testing"
   ]
  },
  {
   "cell_type": "markdown",
   "metadata": {},
   "source": [
    "### Gemini + BM25 / Gemini + SBERT + FAISS Results"
   ]
  },
  {
   "cell_type": "code",
   "execution_count": 30,
   "metadata": {
    "execution": {
     "iopub.execute_input": "2025-05-04T23:58:28.935819Z",
     "iopub.status.busy": "2025-05-04T23:58:28.935669Z",
     "iopub.status.idle": "2025-05-04T23:58:28.946476Z",
     "shell.execute_reply": "2025-05-04T23:58:28.945360Z",
     "shell.execute_reply.started": "2025-05-04T23:58:28.935805Z"
    },
    "trusted": true
   },
   "outputs": [
    {
     "data": {
      "text/plain": [
       "[['https://www.shl.com/products/product-catalog/view/automata-fix-new/',\n",
       "  'https://www.shl.com/products/product-catalog/view/core-java-entry-level-new/',\n",
       "  'https://www.shl.com/products/product-catalog/view/java-8-new/',\n",
       "  'https://www.shl.com/products/product-catalog/view/core-java-advanced-level-new/',\n",
       "  'https://www.shl.com/products/product-catalog/view/agile-software-development/',\n",
       "  'https://www.shl.com/products/product-catalog/view/technology-professional-8-0-job-focused-assessment/',\n",
       "  'https://www.shl.com/products/product-catalog/view/computer-science-new/'],\n",
       " ['https://www.shl.com/products/product-catalog/view/entry-level-sales-7-1/',\n",
       "  'https://www.shl.com/products/product-catalog/view/entry-level-sales-sift-out-7-1/',\n",
       "  'https://www.shl.com/products/product-catalog/view/entry-level-sales-solution/',\n",
       "  'https://www.shl.com/products/product-catalog/view/sales-representative-solution/',\n",
       "  'https://www.shl.com/products/product-catalog/view/sales-support-specialist-solution/',\n",
       "  'https://www.shl.com/products/product-catalog/view/technical-sales-associate-solution/',\n",
       "  'https://www.shl.com/products/product-catalog/view/svar-spoken-english-indian-accent-new/',\n",
       "  'https://www.shl.com/products/product-catalog/view/sales-and-service-phone-solution/',\n",
       "  'https://www.shl.com/products/product-catalog/view/sales-and-service-phone-simulation/',\n",
       "  'https://www.shl.com/products/product-catalog/view/english-comprehension-new/'],\n",
       " ['https://www.shl.com/products/product-catalog/view/motivation-questionnaire-mqm5/',\n",
       "  'https://www.shl.com/products/product-catalog/view/global-skills-assessment/',\n",
       "  'https://www.shl.com/products/product-catalog/view/graduate-8-0-job-focused-assessment-4228/'],\n",
       " ['https://www.shl.com/products/product-catalog/view/drupal-new/',\n",
       "  'https://www.shl.com/products/product-catalog/view/search-engine-optimization-new/',\n",
       "  'https://www.shl.com/products/product-catalog/view/administrative-professional-short-form/',\n",
       "  'https://www.shl.com/products/product-catalog/view/entry-level-sales-sift-out-7-1/',\n",
       "  'https://www.shl.com/products/product-catalog/view/general-entry-level-data-entry-7-0-solution/'],\n",
       " ['https://www.shl.com/products/product-catalog/view/automata-selenium/',\n",
       "  'https://www.shl.com/products/product-catalog/view/automata-fix-new/',\n",
       "  'https://www.shl.com/products/product-catalog/view/automata-front-end/',\n",
       "  'https://www.shl.com/products/product-catalog/view/javascript-new/',\n",
       "  'https://www.shl.com/products/product-catalog/view/htmlcss-new/',\n",
       "  'https://www.shl.com/products/product-catalog/view/html5-new/',\n",
       "  'https://www.shl.com/products/product-catalog/view/css3-new/',\n",
       "  'https://www.shl.com/products/product-catalog/view/selenium-new/',\n",
       "  'https://www.shl.com/products/product-catalog/view/sql-server-new/',\n",
       "  'https://www.shl.com/products/product-catalog/view/automata-sql-new/',\n",
       "  'https://www.shl.com/products/product-catalog/view/manual-testing-new/'],\n",
       " ['https://www.shl.com/products/product-catalog/view/administrative-professional-short-form/',\n",
       "  'https://www.shl.com/products/product-catalog/view/verify-numerical-ability/',\n",
       "  'https://www.shl.com/products/product-catalog/view/financial-professional-short-form/',\n",
       "  'https://www.shl.com/products/product-catalog/view/bank-administrative-assistant-short-form/',\n",
       "  'https://www.shl.com/products/product-catalog/view/general-entry-level-data-entry-7-0-solution/',\n",
       "  'https://www.shl.com/products/product-catalog/view/basic-computer-literacy-windows-10-new/'],\n",
       " ['https://www.shl.com/products/product-catalog/view/verify-verbal-ability-next-generation/',\n",
       "  'https://www.shl.com/products/product-catalog/view/shl-verify-interactive-inductive-reasoning/',\n",
       "  'https://www.shl.com/products/product-catalog/view/occupational-personality-questionnaire-opq32r/']]"
      ]
     },
     "execution_count": 30,
     "metadata": {},
     "output_type": "execute_result"
    }
   ],
   "source": [
    "import pandas as pd\n",
    "\n",
    "queries = [\"I am hiring for Java developers who can also collaborate effectively with my business teams. Looking for an assessment(s) that can be completed in 40 minutes.\", \"I want to hire new graduates for a sales role in my company, the budget is for about an hour for each test. Give me some options\", \"I am looking for a COO for my company in China and I want to see if they are culturally a right fit for our company. Suggest me an assessment that they can complete in about an hour\", \"Content Writer required, expert in English and SEO.\",\n",
    "    \"\"\"\n",
    "    Find me 1 hour long assesment for\n",
    "the below job at SHL\n",
    "Job Description\n",
    "Join a community that is shaping\n",
    "the future of work! SHL, People\n",
    "Science. People Answers.\n",
    "Are you a seasoned QA Engineer\n",
    "with a flair for innovation? Are you\n",
    "ready to shape the future of talent\n",
    "assessment and empower\n",
    "organizations to unlock their full\n",
    "potential? If so, we want you to be a\n",
    "part of the SHL Team! As a QA\n",
    "Engineer, you will be involved in\n",
    "creating and implementing software\n",
    "solutions that contribute to the\n",
    "development of our groundbreaking products.\n",
    "An excellent benefit package is\n",
    "offered in a culture where career\n",
    "development, with ongoing\n",
    "manager guidance, collaboration,\n",
    "flexibility, diversity, and inclusivity\n",
    "are all intrinsic to our culture. There\n",
    "is a huge investment in SHL\n",
    "currently so there’s no better time\n",
    "to become a part of something\n",
    "transformational.\n",
    "What You Will Be Doing\n",
    "Getting involved in engineering\n",
    "quality assurance and providing\n",
    "inputs when required.\n",
    "Create and develop test plans for\n",
    "various forms of testing.\n",
    "Conducts and/or participates in\n",
    "formal and informal test case\n",
    "reviews.\n",
    "Develop and initiate functional\n",
    "tests and regression tests.\n",
    "Rolling out improvements for\n",
    "testing and quality processes.\n",
    "Essential\n",
    "What we are looking for from you:\n",
    "Development experience – Java or\n",
    "JavaScript, CSS, HTML (Automation)\n",
    "Selenium WebDriver and page\n",
    "object design pattern (Automation)\n",
    "SQL server knowledge\n",
    "Test case management experience.\n",
    "Manual Testing\n",
    "Desirable\n",
    "Knowledge the basic concepts of\n",
    "testing\n",
    "Strong solution-finding experience\n",
    "Strong verbal and written\n",
    "communicator.\n",
    "Get In Touch\n",
    "Find out how this one-off\n",
    "opportunity can help you achieve\n",
    "your career goals by making an\n",
    "application to our knowledgeable\n",
    "and friendly Talent Acquisition\n",
    "team. Choose a new path with SHL.\n",
    "#CareersAtSHL #SHLHiringTalent\n",
    "#TechnologyJobs\n",
    "#QualityAssuranceJobs\n",
    "#CareerOpportunities\n",
    "#JobOpportunities\n",
    "About Us\n",
    "We unlock the possibilities of\n",
    "businesses through the power of\n",
    "people, science and technology.\n",
    "We started this industry of people\n",
    "insight more than 40 years ago and\n",
    "continue to lead the market with\n",
    "powerhouse product launches,\n",
    "ground-breaking science and\n",
    "business transformation.\n",
    "When you inspire and transform\n",
    "people’s lives, you will experience\n",
    "the greatest business outcomes\n",
    "possible. SHL’s products insights,\n",
    "experiences, and services can help\n",
    "achieve growth at scale. \n",
    "What SHL Can Offer You\n",
    "Diversity, equity, inclusion and\n",
    "accessibility are key threads in the\n",
    "fabric of SHL’s business and culture\n",
    "(find out more about DEI and\n",
    "accessibility at SHL )\n",
    "Employee benefits package that\n",
    "takes care of you and your family.\n",
    "Support, coaching, and on-the-job\n",
    "development to achieve career\n",
    "success\n",
    "A fun and flexible workplace where\n",
    "you’ll be inspired to do your best\n",
    "work (find out more LifeAtSHL )\n",
    "The ability to transform workplaces\n",
    "around the world for others.\n",
    "SHL is an equal opportunity\n",
    "employer. We support and\n",
    "encourage applications from a\n",
    "diverse range of candidates. We\n",
    "can, and do make adjustments to\n",
    "make sure our recruitment process\n",
    "is as inclusive as possible.\n",
    "SHL is an equal opportunity\n",
    "employer.\n",
    "    \"\"\",\n",
    "    \n",
    "    \"ICICI Bank Assistant Admin, Experience required 0-2 years, test should be 30-40 mins long\", \n",
    "    \n",
    "    \"\"\"\"\n",
    "    KEY RESPONSIBITILES:\n",
    "Manage the sound-scape of the station through appropriate\n",
    "creative and marketing\n",
    "interventions to Increase or\n",
    "Maintain the listenership\n",
    "Acts as an interface between\n",
    "Programming & sales team, thereby\n",
    "supporting the sales team by\n",
    "providing creative inputs in order to\n",
    "increase the overall ad spends by\n",
    "clients\n",
    "Build brand Mirchi by ideating fresh\n",
    "programming initiatives on air\n",
    "campaigns, programming led onground events & new properties to\n",
    "ensure brand differentiation & thus\n",
    "increase brand recall at station level\n",
    "Invest time in local RJs to grow &\n",
    "develop them as local celebrities\n",
    "Through strong networking, must\n",
    "focus on identifying the best of local\n",
    "talent and ensure to bring the\n",
    "creative minds from the market on\n",
    "board with Mirchi\n",
    "Build radio as a category for both\n",
    "listeners & advertisers\n",
    "People Management\n",
    "Identifying the right talent and\n",
    "investing time in developing them\n",
    "by frequent feedback on their\n",
    "performance\n",
    "Monitor, Coach and mentor team\n",
    "members on a regular basis\n",
    "Development of Jocks as per\n",
    "guidelines\n",
    "Must have an eye to spot the local\n",
    "talent to fill up vacancies locally\n",
    "TECHNICAL SKILLS &\n",
    "QUALIFICATION REQUIRED:\n",
    "Graduation / Post Graduation (Any\n",
    "specialisation) with 8 -12 years of\n",
    "relevant experience\n",
    "Experience in digital content\n",
    "conceptualisation\n",
    "Strong branding focus\n",
    "Must be well-read in variety of\n",
    "areas and must keep up with the\n",
    "latest events in the city / cluster /\n",
    "country\n",
    "Must know to read, write & speak\n",
    "English\n",
    "PERSONAL ATTRIBUTES:\n",
    "Excellent communication skills\n",
    "Good interpersonal skills\n",
    "People management\n",
    "Suggest me some tests for the\n",
    "above jd. The duration should be at\n",
    "most 90 mins\n",
    "    \"\"\"]\n",
    "\n",
    "outs = [\n",
    "    [\"https://www.shl.com/solutions/products/product-catalog/view/automata-fix-new/\", \"https://www.shl.com/solutions/products/product-catalog/view/core-java-entry-level-new/\", \"https://www.shl.com/solutions/products/product-catalog/view/java-8-new/\", \"https://www.shl.com/solutions/products/product-catalog/view/core-java-advanced-level-new/\", \"https://www.shl.com/solutions/products/product-catalog/view/agile-software-development/\", \"https://www.shl.com/solutions/products/product-catalog/view/technology-professional-8-0-job-focused-assessment/\", \"https://www.shl.com/solutions/products/product-catalog/view/computer-science-new/\"],\n",
    "    \n",
    "    [\"https://www.shl.com/solutions/products/product-catalog/view/entry-level-sales-7-1/\", \"https://www.shl.com/solutions/products/product-catalog/view/entry-level-sales-sift-out-7-1/\", \"https://www.shl.com/solutions/products/product-catalog/view/entry-level-sales-solution/\", \"https://www.shl.com/solutions/products/product-catalog/view/sales-representative-solution/\", \"https://www.shl.com/solutions/products/product-catalog/view/sales-support-specialist-solution/\", \"https://www.shl.com/solutions/products/product-catalog/view/technical-sales-associate-solution/\", \"https://www.shl.com/solutions/products/product-catalog/view/svar-spoken-english-indian-accent-new/\", \"https://www.shl.com/solutions/products/product-catalog/view/sales-and-service-phone-solution/\", \"https://www.shl.com/solutions/products/product-catalog/view/sales-and-service-phone-simulation/\", \"https://www.shl.com/solutions/products/product-catalog/view/english-comprehension-new/\"],\n",
    "    \n",
    "    [\"https://www.shl.com/solutions/products/product-catalog/view/motivation-questionnaire-mqm5/\", \"https://www.shl.com/solutions/products/product-catalog/view/global-skills-assessment/\", \"https://www.shl.com/solutions/products/product-catalog/view/graduate-8-0-job-focused-assessment-4228/\"],\n",
    "\n",
    "    [\"https://www.shl.com/solutions/products/product-catalog/view/drupal-new/\", \"https://www.shl.com/solutions/products/product-catalog/view/search-engine-optimization-new/\", \"https://www.shl.com/solutions/products/product-catalog/view/administrative-professional-short-form/\", \"https://www.shl.com/solutions/products/product-catalog/view/entry-level-sales-sift-out-7-1/\", \"https://www.shl.com/solutions/products/product-catalog/view/general-entry-level-data-entry-7-0-solution/\"],\n",
    "\n",
    "    [\"https://www.shl.com/solutions/products/product-catalog/view/automata-selenium/\", \"https://www.shl.com/solutions/products/product-catalog/view/automata-fix-new/\", \"https://www.shl.com/solutions/products/product-catalog/view/automata-front-end/\", \"https://www.shl.com/solutions/products/product-catalog/view/javascript-new/\", \"https://www.shl.com/solutions/products/product-catalog/view/htmlcss-new/\", \"https://www.shl.com/solutions/products/product-catalog/view/html5-new/\", \"https://www.shl.com/solutions/products/product-catalog/view/css3-new/\", \"https://www.shl.com/solutions/products/product-catalog/view/selenium-new/\", \"https://www.shl.com/solutions/products/product-catalog/view/sql-server-new/\", \"https://www.shl.com/solutions/products/product-catalog/view/automata-sql-new/\", \"https://www.shl.com/solutions/products/product-catalog/view/manual-testing-new/\"],\n",
    "\n",
    "    [\"https://www.shl.com/solutions/products/product-catalog/view/administrative-professional-short-form/\", \"https://www.shl.com/solutions/products/product-catalog/view/verify-numerical-ability/\", \"https://www.shl.com/solutions/products/product-catalog/view/financial-professional-short-form/\", \"https://www.shl.com/solutions/products/product-catalog/view/bank-administrative-assistant-short-form/\", \"https://www.shl.com/solutions/products/product-catalog/view/general-entry-level-data-entry-7-0-solution/\", \"https://www.shl.com/solutions/products/product-catalog/view/basic-computer-literacy-windows-10-new/\"],\n",
    "\n",
    "    [\"https://www.shl.com/solutions/products/product-catalog/view/verify-verbal-ability-next-generation/\", \"https://www.shl.com/solutions/products/product-catalog/view/shl-verify-interactive-inductive-reasoning/\", \"https://www.shl.com/solutions/products/product-catalog/view/occupational-personality-questionnaire-opq32r/\"]\n",
    "]\n",
    "\n",
    "for i in range(len(outs)):\n",
    "    for j in range(len(outs[i])):\n",
    "        outs[i][j] = outs[i][j].replace(\"/solutions/\", \"/\")\n",
    "\n",
    "outs"
   ]
  },
  {
   "cell_type": "code",
   "execution_count": 31,
   "metadata": {
    "execution": {
     "iopub.execute_input": "2025-05-04T23:58:28.947722Z",
     "iopub.status.busy": "2025-05-04T23:58:28.947447Z",
     "iopub.status.idle": "2025-05-04T23:58:49.044840Z",
     "shell.execute_reply": "2025-05-04T23:58:49.044015Z",
     "shell.execute_reply.started": "2025-05-04T23:58:28.947697Z"
    },
    "trusted": true
   },
   "outputs": [
    {
     "data": {
      "application/vnd.jupyter.widget-view+json": {
       "model_id": "ca682e9e0743423e926fd26075014a5b",
       "version_major": 2,
       "version_minor": 0
      },
      "text/plain": [
       "Batches:   0%|          | 0/1 [00:00<?, ?it/s]"
      ]
     },
     "metadata": {},
     "output_type": "display_data"
    },
    {
     "data": {
      "application/vnd.jupyter.widget-view+json": {
       "model_id": "f5ab5c6168c448a8919155e1900621b1",
       "version_major": 2,
       "version_minor": 0
      },
      "text/plain": [
       "Batches:   0%|          | 0/1 [00:00<?, ?it/s]"
      ]
     },
     "metadata": {},
     "output_type": "display_data"
    },
    {
     "data": {
      "application/vnd.jupyter.widget-view+json": {
       "model_id": "b1d046e8788c42dfb14fdc84fdc3b401",
       "version_major": 2,
       "version_minor": 0
      },
      "text/plain": [
       "Batches:   0%|          | 0/1 [00:00<?, ?it/s]"
      ]
     },
     "metadata": {},
     "output_type": "display_data"
    },
    {
     "data": {
      "application/vnd.jupyter.widget-view+json": {
       "model_id": "0317809836254ef59b58e3d98376e96f",
       "version_major": 2,
       "version_minor": 0
      },
      "text/plain": [
       "Batches:   0%|          | 0/1 [00:00<?, ?it/s]"
      ]
     },
     "metadata": {},
     "output_type": "display_data"
    },
    {
     "data": {
      "application/vnd.jupyter.widget-view+json": {
       "model_id": "3ff172b1b3b3407f856f97d13bf0743e",
       "version_major": 2,
       "version_minor": 0
      },
      "text/plain": [
       "Batches:   0%|          | 0/1 [00:00<?, ?it/s]"
      ]
     },
     "metadata": {},
     "output_type": "display_data"
    },
    {
     "data": {
      "application/vnd.jupyter.widget-view+json": {
       "model_id": "e7555f72212845f99f3592ddcc88a7a3",
       "version_major": 2,
       "version_minor": 0
      },
      "text/plain": [
       "Batches:   0%|          | 0/1 [00:00<?, ?it/s]"
      ]
     },
     "metadata": {},
     "output_type": "display_data"
    },
    {
     "data": {
      "application/vnd.jupyter.widget-view+json": {
       "model_id": "43acd7ab4cb04675a5dd8ec9e6ea406d",
       "version_major": 2,
       "version_minor": 0
      },
      "text/plain": [
       "Batches:   0%|          | 0/1 [00:00<?, ?it/s]"
      ]
     },
     "metadata": {},
     "output_type": "display_data"
    },
    {
     "name": "stdout",
     "output_type": "stream",
     "text": [
      "0.21521335807050093\n",
      "0.1421201814058957\n",
      "0.20754483611626465\n",
      "0.1516893424036281\n"
     ]
    }
   ],
   "source": [
    "def average_precision_at_k(predicted_names, actual_names, k):\n",
    "    if not actual_names:\n",
    "        return 0.0\n",
    "\n",
    "    predicted_names = predicted_names[:k]\n",
    "    score = 0.0\n",
    "    num_hits = 0.0\n",
    "\n",
    "    for i, pred in enumerate(predicted_names):\n",
    "        if pred in actual_names:\n",
    "            num_hits += 1.0\n",
    "            score += num_hits / (i + 1.0)\n",
    "\n",
    "    return score / min(len(actual_names), k)\n",
    "\n",
    "\n",
    "def mean_average_precision_at_k(predictions, ground_truth, k):\n",
    "    all_ap = []\n",
    "    for pred, actual in zip(predictions, ground_truth):\n",
    "        ap = average_precision_at_k(pred, actual, k)\n",
    "        all_ap.append(ap)\n",
    "    return sum(all_ap) / len(all_ap)\n",
    "\n",
    "def recall_at_k(predicted_names, actual_names, k):\n",
    "    if not actual_names:\n",
    "        return 0.0\n",
    "    predicted_names = predicted_names[:k]\n",
    "    hits = sum(1 for pred in predicted_names if pred in actual_names)\n",
    "    return hits / len(actual_names)\n",
    "\n",
    "\n",
    "def mean_recall_at_k(predictions, ground_truth, k):\n",
    "    all_recalls = []\n",
    "    for pred, actual in zip(predictions, ground_truth):\n",
    "        rec = recall_at_k(pred, actual, k)\n",
    "        all_recalls.append(rec)\n",
    "    return sum(all_recalls) / len(all_recalls)\n",
    "\n",
    "bm25_results = [list(bm25_search(generate_and_parse_query(x)['query'])['url']) for x in queries]\n",
    "semantic_results = [list(semantic_search(generate_and_parse_query(x)['query'])['url']) for x in queries]\n",
    "print(mean_recall_at_k(bm25_results, outs, 10))\n",
    "print(mean_average_precision_at_k(bm25_results, outs, 10))\n",
    "print(mean_recall_at_k(semantic_results, outs, 10))\n",
    "print(mean_average_precision_at_k(semantic_results, outs, 10))"
   ]
  },
  {
   "cell_type": "markdown",
   "metadata": {},
   "source": [
    "### Without Gemini API"
   ]
  },
  {
   "cell_type": "code",
   "execution_count": 32,
   "metadata": {
    "execution": {
     "iopub.execute_input": "2025-05-04T23:58:49.045734Z",
     "iopub.status.busy": "2025-05-04T23:58:49.045559Z",
     "iopub.status.idle": "2025-05-04T23:58:50.543548Z",
     "shell.execute_reply": "2025-05-04T23:58:50.542382Z",
     "shell.execute_reply.started": "2025-05-04T23:58:49.045719Z"
    },
    "trusted": true
   },
   "outputs": [
    {
     "data": {
      "application/vnd.jupyter.widget-view+json": {
       "model_id": "0048f60c7d2a43f0bf2ecdc7dea91957",
       "version_major": 2,
       "version_minor": 0
      },
      "text/plain": [
       "Batches:   0%|          | 0/1 [00:00<?, ?it/s]"
      ]
     },
     "metadata": {},
     "output_type": "display_data"
    },
    {
     "data": {
      "application/vnd.jupyter.widget-view+json": {
       "model_id": "0d947bbf80b64c5ab38651d3f2d6326f",
       "version_major": 2,
       "version_minor": 0
      },
      "text/plain": [
       "Batches:   0%|          | 0/1 [00:00<?, ?it/s]"
      ]
     },
     "metadata": {},
     "output_type": "display_data"
    },
    {
     "data": {
      "application/vnd.jupyter.widget-view+json": {
       "model_id": "d3082b56c481453eb03fff52332d3c40",
       "version_major": 2,
       "version_minor": 0
      },
      "text/plain": [
       "Batches:   0%|          | 0/1 [00:00<?, ?it/s]"
      ]
     },
     "metadata": {},
     "output_type": "display_data"
    },
    {
     "data": {
      "application/vnd.jupyter.widget-view+json": {
       "model_id": "e001e89afe7f41b481906d8e2f1a9de8",
       "version_major": 2,
       "version_minor": 0
      },
      "text/plain": [
       "Batches:   0%|          | 0/1 [00:00<?, ?it/s]"
      ]
     },
     "metadata": {},
     "output_type": "display_data"
    },
    {
     "data": {
      "application/vnd.jupyter.widget-view+json": {
       "model_id": "c80e723a6cfa4485ab70f3912a4f562c",
       "version_major": 2,
       "version_minor": 0
      },
      "text/plain": [
       "Batches:   0%|          | 0/1 [00:00<?, ?it/s]"
      ]
     },
     "metadata": {},
     "output_type": "display_data"
    },
    {
     "data": {
      "application/vnd.jupyter.widget-view+json": {
       "model_id": "f108deb947a24267a88f5153b887fe0b",
       "version_major": 2,
       "version_minor": 0
      },
      "text/plain": [
       "Batches:   0%|          | 0/1 [00:00<?, ?it/s]"
      ]
     },
     "metadata": {},
     "output_type": "display_data"
    },
    {
     "data": {
      "application/vnd.jupyter.widget-view+json": {
       "model_id": "aab16a374589477aabf0f22db82b452d",
       "version_major": 2,
       "version_minor": 0
      },
      "text/plain": [
       "Batches:   0%|          | 0/1 [00:00<?, ?it/s]"
      ]
     },
     "metadata": {},
     "output_type": "display_data"
    },
    {
     "name": "stdout",
     "output_type": "stream",
     "text": [
      "0.14557823129251699\n",
      "0.0707482993197279\n",
      "0.22183055040197894\n",
      "0.10915532879818593\n"
     ]
    }
   ],
   "source": [
    "bm25_results = [list(bm25_search(x)['url']) for x in queries]\n",
    "semantic_results = [list(semantic_search(x)['url']) for x in queries]\n",
    "print(mean_recall_at_k(bm25_results, outs, 10))\n",
    "print(mean_average_precision_at_k(bm25_results, outs, 10))\n",
    "print(mean_recall_at_k(semantic_results, outs, 10))\n",
    "print(mean_average_precision_at_k(semantic_results, outs, 10))"
   ]
  },
  {
   "cell_type": "markdown",
   "metadata": {},
   "source": [
    "### With RRF"
   ]
  },
  {
   "cell_type": "code",
   "execution_count": 33,
   "metadata": {
    "execution": {
     "iopub.execute_input": "2025-05-04T23:58:50.544783Z",
     "iopub.status.busy": "2025-05-04T23:58:50.544285Z",
     "iopub.status.idle": "2025-05-04T23:58:50.549122Z",
     "shell.execute_reply": "2025-05-04T23:58:50.548579Z",
     "shell.execute_reply.started": "2025-05-04T23:58:50.544767Z"
    },
    "trusted": true
   },
   "outputs": [],
   "source": [
    "def rrf_fusion(df1, df2, rrf_k=20):\n",
    "    all_items = set(df1['url']).union(set(df2['url']))\n",
    "    scores = {}\n",
    "\n",
    "    for rank, url in enumerate(df1['url']):\n",
    "        scores[url] = scores.get(url, 0) + 1 / (rrf_k + rank + 1)\n",
    "\n",
    "    for rank, url in enumerate(df2['url']):\n",
    "        scores[url] = scores.get(url, 0) + 1 / (rrf_k + rank + 1)\n",
    "\n",
    "    ranked_urls = sorted(scores.items(), key=lambda x: x[1], reverse=True)\n",
    "    return [url for url, _ in ranked_urls[:10]]\n"
   ]
  },
  {
   "cell_type": "code",
   "execution_count": 35,
   "metadata": {
    "execution": {
     "iopub.execute_input": "2025-05-05T00:02:36.090761Z",
     "iopub.status.busy": "2025-05-05T00:02:36.090456Z",
     "iopub.status.idle": "2025-05-05T00:02:56.907135Z",
     "shell.execute_reply": "2025-05-05T00:02:56.906415Z",
     "shell.execute_reply.started": "2025-05-05T00:02:36.090739Z"
    },
    "trusted": true
   },
   "outputs": [
    {
     "data": {
      "application/vnd.jupyter.widget-view+json": {
       "model_id": "5ba13b8b4463489e9bbe6a48c57ee23c",
       "version_major": 2,
       "version_minor": 0
      },
      "text/plain": [
       "Batches:   0%|          | 0/1 [00:00<?, ?it/s]"
      ]
     },
     "metadata": {},
     "output_type": "display_data"
    },
    {
     "data": {
      "application/vnd.jupyter.widget-view+json": {
       "model_id": "283f59389757448da46fbd8ef7321237",
       "version_major": 2,
       "version_minor": 0
      },
      "text/plain": [
       "Batches:   0%|          | 0/1 [00:00<?, ?it/s]"
      ]
     },
     "metadata": {},
     "output_type": "display_data"
    },
    {
     "data": {
      "application/vnd.jupyter.widget-view+json": {
       "model_id": "083b35553682400e81855423013917c9",
       "version_major": 2,
       "version_minor": 0
      },
      "text/plain": [
       "Batches:   0%|          | 0/1 [00:00<?, ?it/s]"
      ]
     },
     "metadata": {},
     "output_type": "display_data"
    },
    {
     "data": {
      "application/vnd.jupyter.widget-view+json": {
       "model_id": "9b42e88a8a604c9d9f7ca3b04da66a67",
       "version_major": 2,
       "version_minor": 0
      },
      "text/plain": [
       "Batches:   0%|          | 0/1 [00:00<?, ?it/s]"
      ]
     },
     "metadata": {},
     "output_type": "display_data"
    },
    {
     "data": {
      "application/vnd.jupyter.widget-view+json": {
       "model_id": "86f0f943d7ab4be3b0e4b642d3c3c33a",
       "version_major": 2,
       "version_minor": 0
      },
      "text/plain": [
       "Batches:   0%|          | 0/1 [00:00<?, ?it/s]"
      ]
     },
     "metadata": {},
     "output_type": "display_data"
    },
    {
     "data": {
      "application/vnd.jupyter.widget-view+json": {
       "model_id": "f221257444c04e8da21265917ec97786",
       "version_major": 2,
       "version_minor": 0
      },
      "text/plain": [
       "Batches:   0%|          | 0/1 [00:00<?, ?it/s]"
      ]
     },
     "metadata": {},
     "output_type": "display_data"
    },
    {
     "data": {
      "application/vnd.jupyter.widget-view+json": {
       "model_id": "7c81eb7a96514ceda022cf3472baaa29",
       "version_major": 2,
       "version_minor": 0
      },
      "text/plain": [
       "Batches:   0%|          | 0/1 [00:00<?, ?it/s]"
      ]
     },
     "metadata": {},
     "output_type": "display_data"
    },
    {
     "data": {
      "text/plain": [
       "[['https://www.shl.com/products/product-catalog/view/java-frameworks-new/',\n",
       "  'https://www.shl.com/products/product-catalog/view/java-8-new/',\n",
       "  'https://www.shl.com/products/product-catalog/view/core-java-advanced-level-new/',\n",
       "  'https://www.shl.com/products/product-catalog/view/core-java-entry-level-new/',\n",
       "  'https://www.shl.com/products/product-catalog/view/java-platform-enterprise-edition-7-java-ee-7/',\n",
       "  'https://www.shl.com/products/product-catalog/view/java-web-services-new/',\n",
       "  'https://www.shl.com/products/product-catalog/view/java-design-patterns-new/',\n",
       "  'https://www.shl.com/products/product-catalog/view/java-2-platform-enterprise-edition-1-4-fundamental/',\n",
       "  'https://www.shl.com/products/product-catalog/view/enterprise-java-beans-new/',\n",
       "  'https://www.shl.com/products/product-catalog/view/ai-skills/'],\n",
       " ['https://www.shl.com/products/product-catalog/view/contact-center-sales-and-service-8-0/',\n",
       "  'https://www.shl.com/products/product-catalog/view/sales-and-service-phone-solution/',\n",
       "  'https://www.shl.com/products/product-catalog/view/sales-supervisor-solution/',\n",
       "  'https://www.shl.com/products/product-catalog/view/sales-manager-solution/',\n",
       "  'https://www.shl.com/products/product-catalog/view/branch-manager-short-form/',\n",
       "  'https://www.shl.com/products/product-catalog/view/sales-representative-solution/',\n",
       "  'https://www.shl.com/products/product-catalog/view/entry-level-sales-solution/',\n",
       "  'https://www.shl.com/products/product-catalog/view/retail-manager-w-sales-solution/',\n",
       "  'https://www.shl.com/products/product-catalog/view/financial-professional-short-form/',\n",
       "  'https://www.shl.com/products/product-catalog/view/workplace-safety-solution/'],\n",
       " ['https://www.shl.com/products/product-catalog/view/branch-manager-short-form/',\n",
       "  'https://www.shl.com/products/product-catalog/view/business-communications/',\n",
       "  'https://www.shl.com/products/product-catalog/view/workplace-safety-solution/',\n",
       "  'https://www.shl.com/products/product-catalog/view/occupational-personality-questionnaire-opq32r/',\n",
       "  'https://www.shl.com/products/product-catalog/view/manager-7-0-solution-3955/',\n",
       "  'https://www.shl.com/products/product-catalog/view/customer-service-phone-solution/',\n",
       "  'https://www.shl.com/products/product-catalog/view/interviewing-and-hiring-concepts-u-s/',\n",
       "  'https://www.shl.com/products/product-catalog/view/executive-scenarios/',\n",
       "  'https://www.shl.com/products/product-catalog/view/manager-short-form/',\n",
       "  'https://www.shl.com/products/product-catalog/view/business-communication-adaptive/'],\n",
       " ['https://www.shl.com/products/product-catalog/view/search-engine-optimization-new/',\n",
       "  'https://www.shl.com/products/product-catalog/view/writex-email-writing-managerial-new/',\n",
       "  'https://www.shl.com/products/product-catalog/view/microsoft-word-365-essentials-new/',\n",
       "  'https://www.shl.com/products/product-catalog/view/writex-email-writing-sales-new/',\n",
       "  'https://www.shl.com/products/product-catalog/view/writex-email-writing-customer-service-new/',\n",
       "  'https://www.shl.com/products/product-catalog/view/microsoft-word-365-new/',\n",
       "  'https://www.shl.com/products/product-catalog/view/written-english-v1/',\n",
       "  'https://www.shl.com/products/product-catalog/view/ai-skills/',\n",
       "  'https://www.shl.com/products/product-catalog/view/proofreading-v1/',\n",
       "  'https://www.shl.com/products/product-catalog/view/drupal-new/'],\n",
       " ['https://www.shl.com/products/product-catalog/view/micro-focus-unified-functional-testing-new/',\n",
       "  'https://www.shl.com/products/product-catalog/view/automata-selenium/',\n",
       "  'https://www.shl.com/products/product-catalog/view/selenium-new/',\n",
       "  'https://www.shl.com/products/product-catalog/view/automata-front-end/',\n",
       "  'https://www.shl.com/products/product-catalog/view/manual-testing-new/',\n",
       "  'https://www.shl.com/products/product-catalog/view/software-business-analysis/',\n",
       "  'https://www.shl.com/products/product-catalog/view/javascript-new/',\n",
       "  'https://www.shl.com/products/product-catalog/view/angularjs-new/',\n",
       "  'https://www.shl.com/products/product-catalog/view/jenkins-new/',\n",
       "  'https://www.shl.com/products/product-catalog/view/agile-testing-new/'],\n",
       " ['https://www.shl.com/products/product-catalog/view/administrative-professional-short-form/',\n",
       "  'https://www.shl.com/products/product-catalog/view/bank-administrative-assistant-short-form/',\n",
       "  'https://www.shl.com/products/product-catalog/view/workplace-administration-skills-new/',\n",
       "  'https://www.shl.com/products/product-catalog/view/insurance-administrative-assistant-solution/',\n",
       "  'https://www.shl.com/products/product-catalog/view/general-entry-level-data-entry-7-0-solution/',\n",
       "  'https://www.shl.com/products/product-catalog/view/workplace-safety-solution/',\n",
       "  'https://www.shl.com/products/product-catalog/view/manager-7-0-solution-3955/',\n",
       "  'https://www.shl.com/products/product-catalog/view/ai-skills/',\n",
       "  'https://www.shl.com/products/product-catalog/view/general-entry-level-all-industries-7-0-solution/',\n",
       "  'https://www.shl.com/products/product-catalog/view/manager-short-form/'],\n",
       " ['https://www.shl.com/products/product-catalog/view/branch-manager-short-form/',\n",
       "  'https://www.shl.com/products/product-catalog/view/business-communications/',\n",
       "  'https://www.shl.com/products/product-catalog/view/contact-center-team-leadcoach-short-form/',\n",
       "  'https://www.shl.com/products/product-catalog/view/manager-7-0-solution-3955/',\n",
       "  'https://www.shl.com/products/product-catalog/view/marketing-new/',\n",
       "  'https://www.shl.com/products/product-catalog/view/interpersonal-communications/',\n",
       "  'https://www.shl.com/products/product-catalog/view/management-scenarios/',\n",
       "  'https://www.shl.com/products/product-catalog/view/contact-center-sales-and-service-8-0/',\n",
       "  'https://www.shl.com/products/product-catalog/view/human-resources-new/',\n",
       "  'https://www.shl.com/products/product-catalog/view/manager-short-form/']]"
      ]
     },
     "execution_count": 35,
     "metadata": {},
     "output_type": "execute_result"
    }
   ],
   "source": [
    "results = [rrf_fusion(semantic_search(generate_and_parse_query(x)['query'], 60), bm25_search(generate_and_parse_query(x)['query'], 60)) for x in queries]\n",
    "results"
   ]
  },
  {
   "cell_type": "code",
   "execution_count": 36,
   "metadata": {
    "execution": {
     "iopub.execute_input": "2025-05-05T00:02:56.908690Z",
     "iopub.status.busy": "2025-05-05T00:02:56.908480Z",
     "iopub.status.idle": "2025-05-05T00:02:56.912878Z",
     "shell.execute_reply": "2025-05-05T00:02:56.912219Z",
     "shell.execute_reply.started": "2025-05-05T00:02:56.908673Z"
    },
    "trusted": true
   },
   "outputs": [
    {
     "name": "stdout",
     "output_type": "stream",
     "text": [
      "0.2975881261595547\n",
      "0.2023469387755102\n"
     ]
    }
   ],
   "source": [
    "print(mean_recall_at_k(results, outs, 10))\n",
    "print(mean_average_precision_at_k(results, outs, 10))"
   ]
  },
  {
   "cell_type": "markdown",
   "metadata": {},
   "source": [
    "## Filtering + RRF"
   ]
  },
  {
   "cell_type": "code",
   "execution_count": 37,
   "metadata": {
    "execution": {
     "iopub.execute_input": "2025-05-05T00:02:56.914024Z",
     "iopub.status.busy": "2025-05-05T00:02:56.913634Z",
     "iopub.status.idle": "2025-05-05T00:02:56.930717Z",
     "shell.execute_reply": "2025-05-05T00:02:56.929786Z",
     "shell.execute_reply.started": "2025-05-05T00:02:56.914000Z"
    },
    "trusted": true
   },
   "outputs": [],
   "source": [
    "def filter_by_duration(df, max_duration):\n",
    "    try:\n",
    "        max_duration = int(max_duration)\n",
    "        if max_duration <= 0:\n",
    "            return df\n",
    "        return df[df['duration'] <= max_duration]\n",
    "    except:\n",
    "        return df\n",
    "\n",
    "def filter_by_test_type(df, target_types):\n",
    "    def overlap(row_types, target):\n",
    "        if isinstance(row_types, str):\n",
    "            row_types = [t.strip() for t in row_types.split(\",\")]\n",
    "        return len(set(row_types).intersection(set(target))) > 0\n",
    "\n",
    "    return df[df['test_types'].apply(lambda x: overlap(x, target_types))]"
   ]
  },
  {
   "cell_type": "code",
   "execution_count": 39,
   "metadata": {
    "execution": {
     "iopub.execute_input": "2025-05-05T00:04:11.612249Z",
     "iopub.status.busy": "2025-05-05T00:04:11.611949Z",
     "iopub.status.idle": "2025-05-05T00:04:22.981106Z",
     "shell.execute_reply": "2025-05-05T00:04:22.980303Z",
     "shell.execute_reply.started": "2025-05-05T00:04:11.612228Z"
    },
    "trusted": true
   },
   "outputs": [
    {
     "data": {
      "application/vnd.jupyter.widget-view+json": {
       "model_id": "43552d0860604f01b2c8fb3492812a45",
       "version_major": 2,
       "version_minor": 0
      },
      "text/plain": [
       "Batches:   0%|          | 0/1 [00:00<?, ?it/s]"
      ]
     },
     "metadata": {},
     "output_type": "display_data"
    },
    {
     "data": {
      "application/vnd.jupyter.widget-view+json": {
       "model_id": "65e8e4ef49ec49a1a6239def9d1897b0",
       "version_major": 2,
       "version_minor": 0
      },
      "text/plain": [
       "Batches:   0%|          | 0/1 [00:00<?, ?it/s]"
      ]
     },
     "metadata": {},
     "output_type": "display_data"
    },
    {
     "data": {
      "application/vnd.jupyter.widget-view+json": {
       "model_id": "b06d5e2eccef47c38800d044ed289595",
       "version_major": 2,
       "version_minor": 0
      },
      "text/plain": [
       "Batches:   0%|          | 0/1 [00:00<?, ?it/s]"
      ]
     },
     "metadata": {},
     "output_type": "display_data"
    },
    {
     "data": {
      "application/vnd.jupyter.widget-view+json": {
       "model_id": "4e1c753536414dc7a83db195524b22cf",
       "version_major": 2,
       "version_minor": 0
      },
      "text/plain": [
       "Batches:   0%|          | 0/1 [00:00<?, ?it/s]"
      ]
     },
     "metadata": {},
     "output_type": "display_data"
    },
    {
     "data": {
      "application/vnd.jupyter.widget-view+json": {
       "model_id": "535ca46f8bba4a1d9819a3007a29f2b7",
       "version_major": 2,
       "version_minor": 0
      },
      "text/plain": [
       "Batches:   0%|          | 0/1 [00:00<?, ?it/s]"
      ]
     },
     "metadata": {},
     "output_type": "display_data"
    },
    {
     "data": {
      "application/vnd.jupyter.widget-view+json": {
       "model_id": "2f253262ec3f4cc5a847695b64d7503d",
       "version_major": 2,
       "version_minor": 0
      },
      "text/plain": [
       "Batches:   0%|          | 0/1 [00:00<?, ?it/s]"
      ]
     },
     "metadata": {},
     "output_type": "display_data"
    },
    {
     "data": {
      "application/vnd.jupyter.widget-view+json": {
       "model_id": "612ff2dfe1944b6481c77473a11c1e4e",
       "version_major": 2,
       "version_minor": 0
      },
      "text/plain": [
       "Batches:   0%|          | 0/1 [00:00<?, ?it/s]"
      ]
     },
     "metadata": {},
     "output_type": "display_data"
    },
    {
     "name": "stdout",
     "output_type": "stream",
     "text": [
      "0.20012368583797155\n",
      "0.11808390022675737\n",
      "0.2586270871985158\n",
      "0.1897675736961451\n"
     ]
    }
   ],
   "source": [
    "bm, sm = [], []\n",
    "\n",
    "for x in queries:\n",
    "    q = generate_and_parse_query(x)\n",
    "    query_text = q['query']\n",
    "    duration = q['duration']\n",
    "    test_types = q['test_types']\n",
    "\n",
    "    bm_df = bm25_search(query_text, 20)\n",
    "    sm_df = semantic_search(query_text, 20)\n",
    "\n",
    "    bm_df = filter_by_duration(bm_df, duration)\n",
    "    bm_df = filter_by_test_type(bm_df, test_types)\n",
    "\n",
    "    sm_df = filter_by_duration(sm_df, duration)\n",
    "    sm_df = filter_by_test_type(sm_df, test_types)\n",
    "\n",
    "    bm.append(list(bm_df['url'])[:10])\n",
    "    sm.append(list(sm_df['url'])[:10])\n",
    "\n",
    "print(mean_recall_at_k(bm, outs, 10))\n",
    "print(mean_average_precision_at_k(bm, outs, 10))\n",
    "print(mean_recall_at_k(sm, outs, 10))\n",
    "print(mean_average_precision_at_k(sm, outs, 10))\n"
   ]
  },
  {
   "cell_type": "code",
   "execution_count": 40,
   "metadata": {
    "execution": {
     "iopub.execute_input": "2025-05-05T00:04:25.844011Z",
     "iopub.status.busy": "2025-05-05T00:04:25.843687Z",
     "iopub.status.idle": "2025-05-05T00:04:36.497292Z",
     "shell.execute_reply": "2025-05-05T00:04:36.496627Z",
     "shell.execute_reply.started": "2025-05-05T00:04:25.843991Z"
    },
    "trusted": true
   },
   "outputs": [
    {
     "data": {
      "application/vnd.jupyter.widget-view+json": {
       "model_id": "609d32d241f348d78ce171d021742d70",
       "version_major": 2,
       "version_minor": 0
      },
      "text/plain": [
       "Batches:   0%|          | 0/1 [00:00<?, ?it/s]"
      ]
     },
     "metadata": {},
     "output_type": "display_data"
    },
    {
     "data": {
      "application/vnd.jupyter.widget-view+json": {
       "model_id": "bd64cf4407884b7788dcb6af5054ce43",
       "version_major": 2,
       "version_minor": 0
      },
      "text/plain": [
       "Batches:   0%|          | 0/1 [00:00<?, ?it/s]"
      ]
     },
     "metadata": {},
     "output_type": "display_data"
    },
    {
     "data": {
      "application/vnd.jupyter.widget-view+json": {
       "model_id": "6552505de4ab45ec8d43449d089e6963",
       "version_major": 2,
       "version_minor": 0
      },
      "text/plain": [
       "Batches:   0%|          | 0/1 [00:00<?, ?it/s]"
      ]
     },
     "metadata": {},
     "output_type": "display_data"
    },
    {
     "data": {
      "application/vnd.jupyter.widget-view+json": {
       "model_id": "531a76359a4d40a1bd6758b12ebf3d7d",
       "version_major": 2,
       "version_minor": 0
      },
      "text/plain": [
       "Batches:   0%|          | 0/1 [00:00<?, ?it/s]"
      ]
     },
     "metadata": {},
     "output_type": "display_data"
    },
    {
     "data": {
      "application/vnd.jupyter.widget-view+json": {
       "model_id": "805e0e1701984c37900184b01953d551",
       "version_major": 2,
       "version_minor": 0
      },
      "text/plain": [
       "Batches:   0%|          | 0/1 [00:00<?, ?it/s]"
      ]
     },
     "metadata": {},
     "output_type": "display_data"
    },
    {
     "data": {
      "application/vnd.jupyter.widget-view+json": {
       "model_id": "407672bfe76848e7a198d0630b36b7b8",
       "version_major": 2,
       "version_minor": 0
      },
      "text/plain": [
       "Batches:   0%|          | 0/1 [00:00<?, ?it/s]"
      ]
     },
     "metadata": {},
     "output_type": "display_data"
    },
    {
     "data": {
      "application/vnd.jupyter.widget-view+json": {
       "model_id": "a950c0d76df34e1d8412bcba9f989e0a",
       "version_major": 2,
       "version_minor": 0
      },
      "text/plain": [
       "Batches:   0%|          | 0/1 [00:00<?, ?it/s]"
      ]
     },
     "metadata": {},
     "output_type": "display_data"
    },
    {
     "name": "stdout",
     "output_type": "stream",
     "text": [
      "0.2941249226963513\n",
      "0.18679138321995462\n"
     ]
    }
   ],
   "source": [
    "rrf = []\n",
    "\n",
    "for x in queries:\n",
    "    q = generate_and_parse_query(x)\n",
    "    bm_df = filter_by_test_type(filter_by_duration(bm25_search(q['query'], 60), q['duration']), q['test_types'])\n",
    "    sm_df = filter_by_test_type(filter_by_duration(semantic_search(q['query'], 60), q['duration']), q['test_types'])\n",
    "\n",
    "    rrf.append(rrf_fusion(bm_df, sm_df))\n",
    "\n",
    "print(mean_recall_at_k(rrf, outs, 10))\n",
    "print(mean_average_precision_at_k(rrf, outs, 10))"
   ]
  },
  {
   "cell_type": "markdown",
   "metadata": {},
   "source": [
    "## Two-Stage (BM25-SBERT) Hybrid Retrieval System"
   ]
  },
  {
   "cell_type": "code",
   "execution_count": 47,
   "metadata": {
    "execution": {
     "iopub.execute_input": "2025-05-05T00:12:25.691239Z",
     "iopub.status.busy": "2025-05-05T00:12:25.690969Z",
     "iopub.status.idle": "2025-05-05T00:12:26.955786Z",
     "shell.execute_reply": "2025-05-05T00:12:26.955057Z",
     "shell.execute_reply.started": "2025-05-05T00:12:25.691220Z"
    },
    "trusted": true
   },
   "outputs": [],
   "source": [
    "from sentence_transformers import SentenceTransformer\n",
    "import numpy as np\n",
    "import faiss\n",
    "import pandas as pd\n",
    "import re\n",
    "from nltk.tokenize import word_tokenize\n",
    "from nltk.corpus import stopwords\n",
    "\n",
    "stop_words = set(stopwords.words('english'))\n",
    "df = pd.read_pickle('df_bm25_tokenized.pkl')\n",
    "model = SentenceTransformer('all-mpnet-base-v2')\n",
    "\n",
    "def preprocess(text):\n",
    "    text = text.lower()\n",
    "    text = re.sub(r\"[^a-z0-9\\s]\", \" \", text)\n",
    "    tokens = word_tokenize(str(text).lower())\n",
    "    return [word for word in tokens if word.isalnum() and word not in stop_words]\n",
    "\n",
    "bm25 = BM25Okapi(df['bm_tokens'].tolist())\n",
    "\n",
    "def bm25_search(query, top_n=50):\n",
    "    query_tokens = preprocess(query)\n",
    "    scores = bm25.get_scores(query_tokens)\n",
    "    top_indices = sorted(range(len(scores)), key=lambda i: scores[i], reverse=True)[:top_n]\n",
    "    return df.iloc[top_indices].copy()\n",
    "\n",
    "def semantic_rerank(bm25_results, query, top_k=10):\n",
    "    texts = (bm25_results['title'] + ' ' + bm25_results['description']).tolist()\n",
    "\n",
    "    doc_embeddings = model.encode(texts, normalize_embeddings=True)\n",
    "    query_embedding = model.encode([query], normalize_embeddings=True)\n",
    "\n",
    "    scores = np.dot(doc_embeddings, query_embedding[0])\n",
    "    sorted_indices = np.argsort(scores)[::-1][:top_k]\n",
    "\n",
    "    return bm25_results.iloc[sorted_indices]\n",
    "\n",
    "def hybrid_search(query, maxdur, test_types, bm25_top_n=50, final_top_k=10):\n",
    "    bm25_results = filter_by_test_type(filter_by_duration(bm25_search(query, top_n=bm25_top_n), maxdur), test_types)\n",
    "    return semantic_rerank(bm25_results, query, top_k=final_top_k)"
   ]
  },
  {
   "cell_type": "code",
   "execution_count": 51,
   "metadata": {
    "execution": {
     "iopub.execute_input": "2025-05-05T00:16:25.475609Z",
     "iopub.status.busy": "2025-05-05T00:16:25.475297Z",
     "iopub.status.idle": "2025-05-05T00:17:41.698116Z",
     "shell.execute_reply": "2025-05-05T00:17:41.697161Z",
     "shell.execute_reply.started": "2025-05-05T00:16:25.475588Z"
    },
    "trusted": true
   },
   "outputs": [
    {
     "data": {
      "application/vnd.jupyter.widget-view+json": {
       "model_id": "c76d7a99372b4a1b894552f4cf397380",
       "version_major": 2,
       "version_minor": 0
      },
      "text/plain": [
       "Batches:   0%|          | 0/1 [00:00<?, ?it/s]"
      ]
     },
     "metadata": {},
     "output_type": "display_data"
    },
    {
     "data": {
      "application/vnd.jupyter.widget-view+json": {
       "model_id": "4417b437593245368ccf18645b192bdc",
       "version_major": 2,
       "version_minor": 0
      },
      "text/plain": [
       "Batches:   0%|          | 0/1 [00:00<?, ?it/s]"
      ]
     },
     "metadata": {},
     "output_type": "display_data"
    },
    {
     "data": {
      "application/vnd.jupyter.widget-view+json": {
       "model_id": "223c32303ccf40e6b40ac1de92243a5d",
       "version_major": 2,
       "version_minor": 0
      },
      "text/plain": [
       "Batches:   0%|          | 0/2 [00:00<?, ?it/s]"
      ]
     },
     "metadata": {},
     "output_type": "display_data"
    },
    {
     "data": {
      "application/vnd.jupyter.widget-view+json": {
       "model_id": "18a473c65b9b4a08ab51d6b64f905840",
       "version_major": 2,
       "version_minor": 0
      },
      "text/plain": [
       "Batches:   0%|          | 0/1 [00:00<?, ?it/s]"
      ]
     },
     "metadata": {},
     "output_type": "display_data"
    },
    {
     "data": {
      "application/vnd.jupyter.widget-view+json": {
       "model_id": "85e1172200674fe8a51e9fd6e91d29ea",
       "version_major": 2,
       "version_minor": 0
      },
      "text/plain": [
       "Batches:   0%|          | 0/1 [00:00<?, ?it/s]"
      ]
     },
     "metadata": {},
     "output_type": "display_data"
    },
    {
     "data": {
      "application/vnd.jupyter.widget-view+json": {
       "model_id": "17fc9decab124be187dd53b6b69b9f64",
       "version_major": 2,
       "version_minor": 0
      },
      "text/plain": [
       "Batches:   0%|          | 0/1 [00:00<?, ?it/s]"
      ]
     },
     "metadata": {},
     "output_type": "display_data"
    },
    {
     "data": {
      "application/vnd.jupyter.widget-view+json": {
       "model_id": "781752ae446b4ae0a6fab05e1c4ca366",
       "version_major": 2,
       "version_minor": 0
      },
      "text/plain": [
       "Batches:   0%|          | 0/1 [00:00<?, ?it/s]"
      ]
     },
     "metadata": {},
     "output_type": "display_data"
    },
    {
     "data": {
      "application/vnd.jupyter.widget-view+json": {
       "model_id": "b6fae77544454d39922982fc5de0af3b",
       "version_major": 2,
       "version_minor": 0
      },
      "text/plain": [
       "Batches:   0%|          | 0/1 [00:00<?, ?it/s]"
      ]
     },
     "metadata": {},
     "output_type": "display_data"
    },
    {
     "data": {
      "application/vnd.jupyter.widget-view+json": {
       "model_id": "65377ea2266f4c278f8ed26c2c25ea79",
       "version_major": 2,
       "version_minor": 0
      },
      "text/plain": [
       "Batches:   0%|          | 0/2 [00:00<?, ?it/s]"
      ]
     },
     "metadata": {},
     "output_type": "display_data"
    },
    {
     "data": {
      "application/vnd.jupyter.widget-view+json": {
       "model_id": "0ebf1fb683ea48f9bf953e6357907634",
       "version_major": 2,
       "version_minor": 0
      },
      "text/plain": [
       "Batches:   0%|          | 0/1 [00:00<?, ?it/s]"
      ]
     },
     "metadata": {},
     "output_type": "display_data"
    },
    {
     "data": {
      "application/vnd.jupyter.widget-view+json": {
       "model_id": "be412d55bf164a019c40d91967ddf7ba",
       "version_major": 2,
       "version_minor": 0
      },
      "text/plain": [
       "Batches:   0%|          | 0/1 [00:00<?, ?it/s]"
      ]
     },
     "metadata": {},
     "output_type": "display_data"
    },
    {
     "data": {
      "application/vnd.jupyter.widget-view+json": {
       "model_id": "bc369373aaf6408188ca0351312f5a3d",
       "version_major": 2,
       "version_minor": 0
      },
      "text/plain": [
       "Batches:   0%|          | 0/1 [00:00<?, ?it/s]"
      ]
     },
     "metadata": {},
     "output_type": "display_data"
    },
    {
     "data": {
      "application/vnd.jupyter.widget-view+json": {
       "model_id": "058654483afd4be7879faf129240ba81",
       "version_major": 2,
       "version_minor": 0
      },
      "text/plain": [
       "Batches:   0%|          | 0/1 [00:00<?, ?it/s]"
      ]
     },
     "metadata": {},
     "output_type": "display_data"
    },
    {
     "data": {
      "application/vnd.jupyter.widget-view+json": {
       "model_id": "45179d4fd79148828fe18d35ad76a3ec",
       "version_major": 2,
       "version_minor": 0
      },
      "text/plain": [
       "Batches:   0%|          | 0/1 [00:00<?, ?it/s]"
      ]
     },
     "metadata": {},
     "output_type": "display_data"
    },
    {
     "name": "stdout",
     "output_type": "stream",
     "text": [
      "0.2954854669140384\n",
      "0.20915532879818596\n"
     ]
    }
   ],
   "source": [
    "res = []\n",
    "for x in queries:\n",
    "    q = generate_and_parse_query(x)\n",
    "    res.append(list(hybrid_search(q['query'], q['duration'], q['test_types'])['url']))\n",
    "\n",
    "print(mean_recall_at_k(res, outs, 10))\n",
    "print(mean_average_precision_at_k(res, outs, 10))"
   ]
  },
  {
   "cell_type": "markdown",
   "metadata": {},
   "source": [
    "# Result\n",
    "I evaluated both the Reciprocal Rank Fusion (RRF) approach and a hybrid pipeline that reranks BM25 results using SBERT embeddings. While Recall@10 remained nearly identical (0.294 for RRF vs. 0.295 for the hybrid), the hybrid system achieved a noticeably higher MAP@10 (0.21 vs. 0.18), indicating better ranking precision for relevant assessments. However, due to the increased latency introduced by SBERT-based reranking, I chose not to use the hybrid system in the real-time deployment. Instead, I opted for the RRF approach as it offers a more practical trade-off between relevance and responsiveness."
   ]
  },
  {
   "cell_type": "markdown",
   "metadata": {},
   "source": [
    "# Conclusion\n",
    "The final recommendation system achieves a Recall@10 of **~0.3** and a MAP@10 of **~0.21** on the official test set, despite some metric variance due to the small evaluation sample size. These results were obtained using a hybrid retrieval setup combining BM25 and SBERT-based semantic search, with additional filtering based on predicted test types and duration, and Reciprocal Rank Fusion (RRF) to blend the ranked results from both retrieval models.\n",
    "\n",
    "While there’s room for improvement, the system performs reasonably well without any supervised training or fine-tuning and adheres to the input-output constraints provided.\n",
    "\n",
    "## Potential Improvements\n",
    "### Model Fine-tuning\n",
    "Fine-tuning the embedding model (e.g., SBERT) on task-specific job description–assessment pairs could improve semantic relevance significantly. A domain-adapted model would likely outperform the current embeddings by a significant margin.\n",
    "\n",
    "### Supervised Re-ranking\n",
    "Training a lightweight ranking classifier model using known job-assessment pairs (if available) would allow the system to learn nuanced patterns not captured by unsupervised methods.\n",
    "\n",
    "### Reinforcement Learning\n",
    "In the absence of labeled training data, a reinforcement learning approach (e.g., using Recall@K or MAP@K as a reward signal) could iteratively optimize ranking quality over user feedback or evaluation samples.\n",
    "\n",
    "### Better Query Parsing and Extraction\n",
    "Improvements in parsing the job description (or query) to extract relevant constraints like required skills, duration, or seniority level more accurately could improve filtering and downstream match quality.\n",
    "\n",
    "### Ensemble with LLM-based Reranker\n",
    "Using a small LLM to re-rank the top-k retrieved assessments based on a similarity explanation or justification layer could improve final precision, though it comes with latency trade-offs."
   ]
  }
 ],
 "metadata": {
  "kaggle": {
   "accelerator": "none",
   "dataSources": [
    {
     "datasetId": 7322501,
     "sourceId": 11667614,
     "sourceType": "datasetVersion"
    }
   ],
   "dockerImageVersionId": 31012,
   "isGpuEnabled": false,
   "isInternetEnabled": true,
   "language": "python",
   "sourceType": "notebook"
  },
  "kernelspec": {
   "display_name": "Python 3",
   "language": "python",
   "name": "python3"
  },
  "language_info": {
   "codemirror_mode": {
    "name": "ipython",
    "version": 3
   },
   "file_extension": ".py",
   "mimetype": "text/x-python",
   "name": "python",
   "nbconvert_exporter": "python",
   "pygments_lexer": "ipython3",
   "version": "3.11.11"
  }
 },
 "nbformat": 4,
 "nbformat_minor": 4
}
